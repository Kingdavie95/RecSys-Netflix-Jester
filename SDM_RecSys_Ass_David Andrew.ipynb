{
 "cells": [
  {
   "cell_type": "code",
   "execution_count": 7,
   "metadata": {},
   "outputs": [],
   "source": [
    "#importing libraries\n",
    "import os\n",
    "import pandas as pd\n",
    "import numpy as np\n",
    "import matplotlib.pyplot as plt\n",
    "import seaborn as sns\n",
    "import statsmodels.api as sm\n",
    "from statsmodels.formula.api import ols\n",
    "import scipy.stats as stats\n",
    "import sklearn as sk\n",
    "from sklearn import linear_model\n",
    "from sklearn.linear_model import LinearRegression\n",
    "from sklearn.model_selection import train_test_split\n",
    "from sklearn.metrics import mean_squared_error\n",
    "from sklearn.preprocessing import StandardScaler\n",
    "from surprise import Reader, Dataset, SVD\n",
    "from surprise.model_selection import cross_validate\n",
    "from surprise.model_selection import train_test_split  \n",
    "from surprise import accuracy\n",
    "from surprise.model_selection import KFold\n",
    "from surprise.model_selection import GridSearchCV"
   ]
  },
  {
   "attachments": {},
   "cell_type": "markdown",
   "metadata": {},
   "source": [
    "# <span style='color:#F76241'>|</span> Group 4 - Systems Development for Marketing </b>\n",
    "### Building a Recommended System for Netflix and Jester"
   ]
  },
  {
   "attachments": {},
   "cell_type": "markdown",
   "metadata": {},
   "source": [
    "## <b>1<span style='color:#F76241'>|</span> Introduction\n",
    "\n",
    "**<span style='color:#F76241'>Main Research question:</span>** </br>\n",
    "How can we use the Netflix Prize dataset to build a recommender system that accurately predicts user ratings for movies and TV shows, and what are the most effective algorithms and techniques for doing so? </br>\n",
    "\n",
    "</br>**<span style='color:#F76241'>Sub Research questions:</span>** </br>\n",
    "\n",
    "What are the most effective algorithms and techniques for predicting user ratings based on the Netflix Prize dataset? </br>\n",
    "\n",
    "How can we evaluate the accuracy and effectiveness of different recommender system algorithms using the Netflix Prize dataset? </br>\n",
    "\n",
    "What are the most important features and variables to consider when building a recommender system using the Netflix Prize dataset? </br>\n",
    "\n",
    "\n",
    "</div>"
   ]
  },
  {
   "attachments": {},
   "cell_type": "markdown",
   "metadata": {},
   "source": [
    "## <b>1.1<span style='color:#F76241'>|</span> About the Dataset\n",
    "\n",
    "The Netflix Prize dataset is a large dataset of movie ratings that was released by Netflix in 2006. The dataset consists of about 100,000,000 ratings for 17,770 movies given by 480,189 users1. Each rating in the training dataset consists of four entries: user, movie, date of grade, grade. Users and movies are represented with integer IDs, while ratings range from 1 to 51. The goal of the Netflix Prize was to develop a recommendation algorithm that could predict user ratings for movies and TV shows with greater accuracy than Netflix’s existing algorithm, Cinematch2."
   ]
  },
  {
   "cell_type": "code",
   "execution_count": 22,
   "metadata": {},
   "outputs": [
    {
     "name": "stdout",
     "output_type": "stream",
     "text": [
      "Reading ratings from C:/Users/User/Dropbox/PC/Desktop/Masters DDB/Sysem development for marketing/Recsys Assignment/combined_data_1.txt\n",
      "\n",
      "Reading ratings from C:/Users/User/Dropbox/PC/Desktop/Masters DDB/Sysem development for marketing/Recsys Assignment/combined_data_2.txt\n",
      "\n",
      "Reading ratings from C:/Users/User/Dropbox/PC/Desktop/Masters DDB/Sysem development for marketing/Recsys Assignment/combined_data_3.txt\n",
      "\n",
      "Reading ratings from C:/Users/User/Dropbox/PC/Desktop/Masters DDB/Sysem development for marketing/Recsys Assignment/combined_data_4.txt\n",
      "\n"
     ]
    }
   ],
   "source": [
    "#Merging the training dataset, code adopted from https://www.kaggle.com/code/elemento/netflix-prizedata\n",
    "if not os.path.isfile('C:/Users/User/Dropbox/PC/Desktop/Masters DDB/Sysem development for marketing/Recsys Assignment/data.csv'):\n",
    "    # Create a file 'data.csv' before reading it\n",
    "    # Read all the files in the dataset and store them in one big file ('data.csv')\n",
    "    # We're reading from each of the four files and appending each rating to a global file 'data.csv'\n",
    "    \n",
    "    data= open('data.csv', mode='w')\n",
    "    \n",
    "    row = []\n",
    "    files = [\n",
    "        'C:/Users/User/Dropbox/PC/Desktop/Masters DDB/Sysem development for marketing/Recsys Assignment/combined_data_1.txt',\n",
    "        'C:/Users/User/Dropbox/PC/Desktop/Masters DDB/Sysem development for marketing/Recsys Assignment/combined_data_2.txt', \n",
    "        'C:/Users/User/Dropbox/PC/Desktop/Masters DDB/Sysem development for marketing/Recsys Assignment/combined_data_3.txt', \n",
    "        'C:/Users/User/Dropbox/PC/Desktop/Masters DDB/Sysem development for marketing/Recsys Assignment/combined_data_4.txt']\n",
    "    for file in files:\n",
    "        print(\"Reading ratings from {}\\n\".format(file))\n",
    "        with open(file) as f:\n",
    "            for line in f: \n",
    "                line = line.strip()\n",
    "                if line.endswith(':'):\n",
    "                    # All below are ratings for this movie, until another movie appears.\n",
    "                    movie_id = line.replace(':', '')\n",
    "                else:\n",
    "                    row = [x for x in line.split(',')]\n",
    "                    row.insert(0, movie_id)\n",
    "                    data.write(','.join(row))\n",
    "                    data.write('\\n')\n",
    "    data.close()"
   ]
  },
  {
   "cell_type": "code",
   "execution_count": 23,
   "metadata": {},
   "outputs": [
    {
     "name": "stdout",
     "output_type": "stream",
     "text": [
      "Sorting the dataframe by Date\n",
      "Done\n"
     ]
    }
   ],
   "source": [
    "# print(\"Creating the dataframe from data.csv file\")\n",
    "df = pd.read_csv('C:/Users/User/Dropbox/PC/Desktop/Masters DDB/Sysem development for marketing/Recsys Assignment/data.csv', sep=',', \n",
    "    names=['movie', 'user', 'rating', 'date'])\n",
    "df.date = pd.to_datetime(df.date)\n",
    "\n",
    "# We are arranging the ratings according to time-stamp(s)\n",
    "print('Sorting the dataframe by Date')\n",
    "df.sort_values(by='date', inplace=True)\n",
    "print('Done')"
   ]
  },
  {
   "cell_type": "code",
   "execution_count": 24,
   "metadata": {},
   "outputs": [
    {
     "data": {
      "text/html": [
       "<div>\n",
       "<style scoped>\n",
       "    .dataframe tbody tr th:only-of-type {\n",
       "        vertical-align: middle;\n",
       "    }\n",
       "\n",
       "    .dataframe tbody tr th {\n",
       "        vertical-align: top;\n",
       "    }\n",
       "\n",
       "    .dataframe thead th {\n",
       "        text-align: right;\n",
       "    }\n",
       "</style>\n",
       "<table border=\"1\" class=\"dataframe\">\n",
       "  <thead>\n",
       "    <tr style=\"text-align: right;\">\n",
       "      <th></th>\n",
       "      <th>movie</th>\n",
       "      <th>user</th>\n",
       "      <th>rating</th>\n",
       "      <th>date</th>\n",
       "    </tr>\n",
       "  </thead>\n",
       "  <tbody>\n",
       "    <tr>\n",
       "      <th>56431994</th>\n",
       "      <td>10341</td>\n",
       "      <td>510180</td>\n",
       "      <td>4</td>\n",
       "      <td>1999-11-11</td>\n",
       "    </tr>\n",
       "    <tr>\n",
       "      <th>9056171</th>\n",
       "      <td>1798</td>\n",
       "      <td>510180</td>\n",
       "      <td>5</td>\n",
       "      <td>1999-11-11</td>\n",
       "    </tr>\n",
       "    <tr>\n",
       "      <th>58698779</th>\n",
       "      <td>10774</td>\n",
       "      <td>510180</td>\n",
       "      <td>3</td>\n",
       "      <td>1999-11-11</td>\n",
       "    </tr>\n",
       "    <tr>\n",
       "      <th>48101611</th>\n",
       "      <td>8651</td>\n",
       "      <td>510180</td>\n",
       "      <td>2</td>\n",
       "      <td>1999-11-11</td>\n",
       "    </tr>\n",
       "    <tr>\n",
       "      <th>81893208</th>\n",
       "      <td>14660</td>\n",
       "      <td>510180</td>\n",
       "      <td>2</td>\n",
       "      <td>1999-11-11</td>\n",
       "    </tr>\n",
       "  </tbody>\n",
       "</table>\n",
       "</div>"
      ],
      "text/plain": [
       "          movie    user  rating       date\n",
       "56431994  10341  510180       4 1999-11-11\n",
       "9056171    1798  510180       5 1999-11-11\n",
       "58698779  10774  510180       3 1999-11-11\n",
       "48101611   8651  510180       2 1999-11-11\n",
       "81893208  14660  510180       2 1999-11-11"
      ]
     },
     "execution_count": 24,
     "metadata": {},
     "output_type": "execute_result"
    }
   ],
   "source": [
    "df.head()"
   ]
  },
  {
   "cell_type": "code",
   "execution_count": null,
   "metadata": {},
   "outputs": [],
   "source": [
    "\n",
    "\n"
   ]
  }
 ],
 "metadata": {
  "kernelspec": {
   "display_name": "base",
   "language": "python",
   "name": "python3"
  },
  "language_info": {
   "codemirror_mode": {
    "name": "ipython",
    "version": 3
   },
   "file_extension": ".py",
   "mimetype": "text/x-python",
   "name": "python",
   "nbconvert_exporter": "python",
   "pygments_lexer": "ipython3",
   "version": "3.10.6"
  },
  "orig_nbformat": 4
 },
 "nbformat": 4,
 "nbformat_minor": 2
}
