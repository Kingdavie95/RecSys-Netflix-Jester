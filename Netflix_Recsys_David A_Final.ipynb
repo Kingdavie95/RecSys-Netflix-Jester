{
 "cells": [
  {
   "cell_type": "code",
   "execution_count": 1,
   "metadata": {},
   "outputs": [],
   "source": [
    "#importing libraries\n",
    "import os #library for \n",
    "import gc #garbage collector library for saving RAM\n",
    "import pandas as pd #pandas dataframe library\n",
    "import numpy as np #numpy array library\n",
    "import matplotlib.pyplot as plt #library for plotting \n",
    "import seaborn as sns #seaborn library for visualization\n",
    "import statsmodels.api as sm \n",
    "from statsmodels.formula.api import ols\n",
    "import scipy.stats as stats\n",
    "import sklearn as sk\n",
    "from scipy import sparse\n",
    "from sklearn.model_selection import train_test_split #library for spliting dataset\n",
    "from sklearn.metrics import mean_squared_error #function for checking model accuracy\n",
    "from sklearn.neighbors import NearestNeighbors #KNN function for checking the nearest neighbors\n",
    "from sklearn.model_selection import GridSearchCV #Gridsearch function for hyperparameter tuning\n",
    "from scipy.sparse import csr_matrix #Function to convert dataframe to a sparse matrix\n",
    "from sklearn.metrics.pairwise import cosine_similarity #function to measure the distance between vectors\n",
    "from sklearn.metrics import mean_absolute_error #function for checking model accuracy\n",
    "from sklearn.metrics import r2_score #function for checking model accuracy\n",
    "from scipy.linalg import svd #function for SVD"
   ]
  },
  {
   "attachments": {},
   "cell_type": "markdown",
   "metadata": {},
   "source": [
    "# **<span style='color:#F76241'>|</span>Systems Development for Marketing </b>**\n",
    "### Building a Recommended System for Netflix Dataset - David Andrew - 500903075"
   ]
  },
  {
   "attachments": {},
   "cell_type": "markdown",
   "metadata": {},
   "source": [
    "## <b>1<span style='color:#F76241'>|</span> Introduction\n",
    "\n",
    "**<span style='color:#F76241'>Main Research question:</span>** </br>\n",
    "How can customer experience be improved by recommending Netflix Movies that they are likely to enjoy?? </br>\n",
    "\n",
    "</br>**<span style='color:#F76241'>Sub Research questions:</span>** </br>\n",
    "What are the most effective algorithms and techniques for building a recommender system for the Netflix users ? <br>\n",
    "\n",
    "What are the most effective algorithms and techniques for predicting user ratings based on the Netflix Prize dataset? </br>\n",
    "\n",
    "How can we evaluate the accuracy and effectiveness of different recommender system algorithms using the Netflix Prize dataset? </br>\n",
    "\n",
    "How Similar are the users in terms of their feeling towards a particular movie</br>\n",
    "\n",
    "\n",
    "</div>"
   ]
  },
  {
   "attachments": {},
   "cell_type": "markdown",
   "metadata": {},
   "source": [
    "### <b>1.1<span style='color:#F76241'>|</span> Data Preparation\n",
    "\n",
    "The Netflix Prize dataset is a large dataset of movie ratings that was released by Netflix in 2006. The dataset consists of about 100,000,000 ratings for 17,770 movies given by 480,189 users1. Each rating in the training dataset consists of four entries: user, movie, date of grade, grade. Users and movies are represented with integer IDs, while ratings range from 1 to 51. The goal of the Netflix Prize was to develop a recommendation algorithm that could predict user ratings for movies and TV shows with greater accuracy than Netflix’s existing algorithm."
   ]
  },
  {
   "cell_type": "code",
   "execution_count": 2,
   "metadata": {},
   "outputs": [],
   "source": [
    "#Merging the training dataset, code adopted from https://www.kaggle.com/code/elemento/netflix-prizedata\n",
    "if not os.path.isfile('C:/Users/User/Dropbox/PC/Desktop/Masters DDB/Sysem development for marketing/Recsys Assignment/data.csv'):\n",
    "    # Create a file 'data.csv' before reading it\n",
    "    # Read all the files in the dataset and store them in one big file ('data.csv')\n",
    "    # We're reading from each of the four files and appending each rating to a global file 'data.csv'\n",
    "    \n",
    "    data= open('data.csv', mode='w')\n",
    "    \n",
    "    row = []\n",
    "    files = [\n",
    "        'C:/Users/User/Dropbox/PC/Desktop/Masters DDB/Sysem development for marketing/Recsys Assignment/combined_data_1.txt',\n",
    "        'C:/Users/User/Dropbox/PC/Desktop/Masters DDB/Sysem development for marketing/Recsys Assignment/combined_data_2.txt', \n",
    "        'C:/Users/User/Dropbox/PC/Desktop/Masters DDB/Sysem development for marketing/Recsys Assignment/combined_data_3.txt', \n",
    "        'C:/Users/User/Dropbox/PC/Desktop/Masters DDB/Sysem development for marketing/Recsys Assignment/combined_data_4.txt']\n",
    "    for file in files:\n",
    "        print(\"Reading ratings from {}\\n\".format(file))\n",
    "        with open(file) as f:\n",
    "            for line in f: \n",
    "                line = line.strip()\n",
    "                if line.endswith(':'):\n",
    "                    # All below are ratings for this movie, until another movie appears.\n",
    "                    movie_id = line.replace(':', '') #this code is to remove the colon at the end of the line\n",
    "                else:\n",
    "                    row = [x for x in line.split(',')] #this code is to split the line into a list\n",
    "                    row.insert(0, movie_id) #this code is to insert the movie id at the beginning of the list\n",
    "                    data.write(','.join(row)) #this code is to join the list into a string\n",
    "                    data.write('\\n') #this code is to add a new line\n",
    "    data.close()"
   ]
  },
  {
   "cell_type": "code",
   "execution_count": 3,
   "metadata": {},
   "outputs": [],
   "source": [
    "# print(\"Creating the dataframe from data.csv file\")\n",
    "df1 = pd.read_csv('C:/Users/User/Dropbox/PC/Desktop/Masters DDB/Sysem development for marketing/Recsys Assignment/data.csv', sep=',', \n",
    "    names=['MovieID', 'userID', 'rating', 'rating_date'])\n",
    "df1.rating_date = pd.to_datetime(df1.rating_date)"
   ]
  },
  {
   "cell_type": "code",
   "execution_count": 4,
   "metadata": {},
   "outputs": [
    {
     "name": "stdout",
     "output_type": "stream",
     "text": [
      "(100480507, 4)\n"
     ]
    }
   ],
   "source": [
    "#checking the shape of df1\n",
    "print(df1.shape)"
   ]
  },
  {
   "cell_type": "code",
   "execution_count": 5,
   "metadata": {},
   "outputs": [],
   "source": [
    "#reading the other datasets\n",
    "df2 = pd.read_csv('C:/Users/User/Dropbox/PC/Desktop/Masters DDB/Sysem development for marketing/Recsys Assignment/movie_titles.csv', sep=';')\n",
    "qualifying = pd.read_csv('C:/Users/User/Dropbox/PC/Desktop/Masters DDB/Sysem development for marketing/Recsys Assignment/qualifying.txt', sep=',')\n",
    "probe = pd.read_csv('C:/Users/User/Dropbox/PC/Desktop/Masters DDB/Sysem development for marketing/Recsys Assignment/probe.txt', sep=',')"
   ]
  },
  {
   "cell_type": "code",
   "execution_count": 6,
   "metadata": {},
   "outputs": [],
   "source": [
    "#adding the 'Year of release' and 'Title' columns to the df1 dataset using the 'MovieID' column as a key\n",
    "df = pd.merge(df1, df2, on='MovieID')"
   ]
  },
  {
   "cell_type": "code",
   "execution_count": 7,
   "metadata": {},
   "outputs": [
    {
     "data": {
      "text/plain": [
       "(100480507, 6)"
      ]
     },
     "execution_count": 7,
     "metadata": {},
     "output_type": "execute_result"
    }
   ],
   "source": [
    "#checking the shape of df\n",
    "df.shape"
   ]
  },
  {
   "attachments": {},
   "cell_type": "markdown",
   "metadata": {},
   "source": [
    "### <b>1.2<span style='color:#F76241'>|</span> Data Cleaning\n",
    "\n",
    "- Checked for missing values\n",
    "- Checked for duplicates\n",
    "- Checked the data types\n",
    "- Took a sample of the dataset due to the large size of the dataset anf the limited resources of the computer\n",
    "- Sample Dataset was selected by taking the first 500 movies. This was done to reduce the size of the dataset and to reduce the time taken to run the algorithms\n",
    "- The sample dataset was then split into a training and test dataset. The training dataset was used to train the model and the test dataset was used to test the model"
   ]
  },
  {
   "cell_type": "code",
   "execution_count": 8,
   "metadata": {},
   "outputs": [
    {
     "data": {
      "text/plain": [
       "MovieID                     int64\n",
       "userID                      int64\n",
       "rating                      int64\n",
       "rating_date        datetime64[ns]\n",
       "Year of Release           float64\n",
       "Title                      object\n",
       "dtype: object"
      ]
     },
     "execution_count": 8,
     "metadata": {},
     "output_type": "execute_result"
    }
   ],
   "source": [
    "#preliminary checking the data types of df\n",
    "df.dtypes"
   ]
  },
  {
   "cell_type": "code",
   "execution_count": 9,
   "metadata": {},
   "outputs": [],
   "source": [
    "#convert the Year of release to just the year\n",
    "df2['Year of Release'] = df2['Year of Release'].astype(str).str[:4]"
   ]
  },
  {
   "cell_type": "code",
   "execution_count": 10,
   "metadata": {},
   "outputs": [],
   "source": [
    "#rearanging the columns\n",
    "df = df[['userID', 'MovieID', 'Title', 'Year of Release', 'rating_date', 'rating']]\n",
    "\n",
    "#renaming the 'Year of Release' column to 'release_year'\n",
    "df.rename(columns={'Year of Release': 'release_year'}, inplace=True)"
   ]
  },
  {
   "cell_type": "code",
   "execution_count": 11,
   "metadata": {},
   "outputs": [
    {
     "data": {
      "text/plain": [
       "userID            0\n",
       "MovieID           0\n",
       "Title             0\n",
       "release_year    965\n",
       "rating_date       0\n",
       "rating            0\n",
       "dtype: int64"
      ]
     },
     "execution_count": 11,
     "metadata": {},
     "output_type": "execute_result"
    }
   ],
   "source": [
    "#Checking for missing values\n",
    "df.isnull().sum()"
   ]
  },
  {
   "cell_type": "code",
   "execution_count": 12,
   "metadata": {},
   "outputs": [],
   "source": [
    "#dropping the rows with missing values\n",
    "df.dropna(inplace=True)"
   ]
  },
  {
   "cell_type": "code",
   "execution_count": 13,
   "metadata": {},
   "outputs": [],
   "source": [
    "#split the dataset by the number of unique movieID\n",
    "df_sample = df[df['MovieID'] <= 500]"
   ]
  },
  {
   "cell_type": "code",
   "execution_count": 14,
   "metadata": {},
   "outputs": [
    {
     "data": {
      "text/plain": [
       "(2798704, 6)"
      ]
     },
     "execution_count": 14,
     "metadata": {},
     "output_type": "execute_result"
    }
   ],
   "source": [
    "#checking the shape of the sample\n",
    "df_sample.shape"
   ]
  },
  {
   "cell_type": "code",
   "execution_count": 15,
   "metadata": {},
   "outputs": [
    {
     "name": "stdout",
     "output_type": "stream",
     "text": [
      "1\n",
      "500\n",
      "6\n",
      "2649429\n",
      "1\n",
      "5\n"
     ]
    }
   ],
   "source": [
    "#checking the minimum and maximum values of the 'MovieID', 'userID', and rating columns\n",
    "print(df_sample['MovieID'].min())\n",
    "print(df_sample['MovieID'].max())\n",
    "print(df_sample['userID'].min())\n",
    "print(df_sample['userID'].max())\n",
    "print(df_sample['rating'].min())\n",
    "print(df_sample['rating'].max())"
   ]
  },
  {
   "cell_type": "code",
   "execution_count": 16,
   "metadata": {},
   "outputs": [],
   "source": [
    "#Splitting the dataset into train and test\n",
    "\n",
    "if not os.path.isfile('fitted.csv'):\n",
    "    #create a dataframe and store it\n",
    "    df_sample.iloc[:int(df_sample.shape[0]*0.80)].to_csv(\"fitted.csv\", index=False)\n",
    "if not os.path.isfile('test.csv'):\n",
    "    #create a dataframe and store it\n",
    "    df_sample.iloc[int(df_sample.shape[0]*0.80):].to_csv(\"test.csv\", index=False)\n",
    "\n",
    "fitted_df = pd.read_csv('fitted.csv', parse_dates=['rating_date'])\n",
    "test_df = pd.read_csv('test.csv')"
   ]
  },
  {
   "cell_type": "code",
   "execution_count": 17,
   "metadata": {},
   "outputs": [
    {
     "name": "stdout",
     "output_type": "stream",
     "text": [
      "(2238963, 5)\n",
      "(559741, 5)\n"
     ]
    }
   ],
   "source": [
    "#checking the shape of the training dataset\n",
    "print(fitted_df.shape)\n",
    "#checking the shape of the testing dataset\n",
    "print(test_df.shape)"
   ]
  },
  {
   "cell_type": "code",
   "execution_count": 18,
   "metadata": {},
   "outputs": [
    {
     "name": "stdout",
     "output_type": "stream",
     "text": [
      "(1791170, 5)\n",
      "(447793, 5)\n"
     ]
    }
   ],
   "source": [
    "#dividing the fitted dataset into train and validation\n",
    "train_df, validation_df = train_test_split(fitted_df, test_size=0.20, random_state=42)\n",
    "\n",
    "#checking the shape of the training dataset\n",
    "print(train_df.shape)\n",
    "#checking the shape of the validation dataset\n",
    "print(validation_df.shape)"
   ]
  },
  {
   "attachments": {},
   "cell_type": "markdown",
   "metadata": {},
   "source": [
    "## <b>2<span style='color:#F76241'>|</span> Exploratory Data Analysis"
   ]
  },
  {
   "attachments": {},
   "cell_type": "markdown",
   "metadata": {},
   "source": [
    "##### **<b>2.1<span style='color:#F76241'>|</span>EDA ON GENERAL DATASET**"
   ]
  },
  {
   "attachments": {},
   "cell_type": "markdown",
   "metadata": {},
   "source": [
    "**Visualising the data is a great way to get a feel for the data and to identify any patterns or trends that may be present. In this section, we will explore the data and look for any interesting patterns or trends that may be present. We will also look at the distribution of ratings and the number of ratings per user and movie.**"
   ]
  },
  {
   "cell_type": "code",
   "execution_count": 19,
   "metadata": {},
   "outputs": [
    {
     "data": {
      "text/html": [
       "<div>\n",
       "<style scoped>\n",
       "    .dataframe tbody tr th:only-of-type {\n",
       "        vertical-align: middle;\n",
       "    }\n",
       "\n",
       "    .dataframe tbody tr th {\n",
       "        vertical-align: top;\n",
       "    }\n",
       "\n",
       "    .dataframe thead th {\n",
       "        text-align: right;\n",
       "    }\n",
       "</style>\n",
       "<table border=\"1\" class=\"dataframe\">\n",
       "  <thead>\n",
       "    <tr style=\"text-align: right;\">\n",
       "      <th></th>\n",
       "      <th>userID</th>\n",
       "      <th>MovieID</th>\n",
       "      <th>Title</th>\n",
       "      <th>release_year</th>\n",
       "      <th>rating_date</th>\n",
       "      <th>rating</th>\n",
       "    </tr>\n",
       "  </thead>\n",
       "  <tbody>\n",
       "    <tr>\n",
       "      <th>0</th>\n",
       "      <td>1488844</td>\n",
       "      <td>1</td>\n",
       "      <td>Dinosaur Planet</td>\n",
       "      <td>2003.0</td>\n",
       "      <td>2005-09-06</td>\n",
       "      <td>3</td>\n",
       "    </tr>\n",
       "    <tr>\n",
       "      <th>1</th>\n",
       "      <td>822109</td>\n",
       "      <td>1</td>\n",
       "      <td>Dinosaur Planet</td>\n",
       "      <td>2003.0</td>\n",
       "      <td>2005-05-13</td>\n",
       "      <td>5</td>\n",
       "    </tr>\n",
       "    <tr>\n",
       "      <th>2</th>\n",
       "      <td>885013</td>\n",
       "      <td>1</td>\n",
       "      <td>Dinosaur Planet</td>\n",
       "      <td>2003.0</td>\n",
       "      <td>2005-10-19</td>\n",
       "      <td>4</td>\n",
       "    </tr>\n",
       "    <tr>\n",
       "      <th>3</th>\n",
       "      <td>30878</td>\n",
       "      <td>1</td>\n",
       "      <td>Dinosaur Planet</td>\n",
       "      <td>2003.0</td>\n",
       "      <td>2005-12-26</td>\n",
       "      <td>4</td>\n",
       "    </tr>\n",
       "    <tr>\n",
       "      <th>4</th>\n",
       "      <td>823519</td>\n",
       "      <td>1</td>\n",
       "      <td>Dinosaur Planet</td>\n",
       "      <td>2003.0</td>\n",
       "      <td>2004-05-03</td>\n",
       "      <td>3</td>\n",
       "    </tr>\n",
       "  </tbody>\n",
       "</table>\n",
       "</div>"
      ],
      "text/plain": [
       "    userID  MovieID            Title  release_year rating_date  rating\n",
       "0  1488844        1  Dinosaur Planet        2003.0  2005-09-06       3\n",
       "1   822109        1  Dinosaur Planet        2003.0  2005-05-13       5\n",
       "2   885013        1  Dinosaur Planet        2003.0  2005-10-19       4\n",
       "3    30878        1  Dinosaur Planet        2003.0  2005-12-26       4\n",
       "4   823519        1  Dinosaur Planet        2003.0  2004-05-03       3"
      ]
     },
     "execution_count": 19,
     "metadata": {},
     "output_type": "execute_result"
    }
   ],
   "source": [
    "#Overview of the dataset\n",
    "df.head()"
   ]
  },
  {
   "cell_type": "code",
   "execution_count": 20,
   "metadata": {},
   "outputs": [
    {
     "name": "stdout",
     "output_type": "stream",
     "text": [
      "<class 'pandas.core.frame.DataFrame'>\n",
      "Int64Index: 100479542 entries, 0 to 100480506\n",
      "Data columns (total 6 columns):\n",
      " #   Column        Dtype         \n",
      "---  ------        -----         \n",
      " 0   userID        int64         \n",
      " 1   MovieID       int64         \n",
      " 2   Title         object        \n",
      " 3   release_year  float64       \n",
      " 4   rating_date   datetime64[ns]\n",
      " 5   rating        int64         \n",
      "dtypes: datetime64[ns](1), float64(1), int64(3), object(1)\n",
      "memory usage: 5.2+ GB\n"
     ]
    }
   ],
   "source": [
    "#checking data types\n",
    "df.info()\n"
   ]
  },
  {
   "cell_type": "code",
   "execution_count": 21,
   "metadata": {},
   "outputs": [
    {
     "name": "stdout",
     "output_type": "stream",
     "text": [
      "Number of unique users:  480189\n",
      "Number of unique movies:  17763\n",
      "Number of unique ratings:  5\n",
      "Number of unique years of release:  94\n"
     ]
    }
   ],
   "source": [
    "#Some Basic statistics\n",
    "print('Number of unique users: ', df.userID.nunique())\n",
    "print('Number of unique movies: ', df.MovieID.nunique())\n",
    "print('Number of unique ratings: ', df.rating.nunique())\n",
    "print('Number of unique years of release: ', df.release_year.nunique())"
   ]
  },
  {
   "cell_type": "code",
   "execution_count": 22,
   "metadata": {},
   "outputs": [],
   "source": [
    "#dropping the 'title' column\n",
    "df.drop('Title', axis=1, inplace=True)\n",
    "\n",
    "#changing the data type of 'UserID', 'rating', and 'MovieID' to a smaller data type\n",
    "df['userID'] = df['userID'].astype(np.int32)\n",
    "df['rating'] = df['rating'].astype(np.int8)\n",
    "df['MovieID'] = df['MovieID'].astype(np.int16)"
   ]
  },
  {
   "cell_type": "code",
   "execution_count": 23,
   "metadata": {},
   "outputs": [
    {
     "data": {
      "text/html": [
       "<div>\n",
       "<style scoped>\n",
       "    .dataframe tbody tr th:only-of-type {\n",
       "        vertical-align: middle;\n",
       "    }\n",
       "\n",
       "    .dataframe tbody tr th {\n",
       "        vertical-align: top;\n",
       "    }\n",
       "\n",
       "    .dataframe thead th {\n",
       "        text-align: right;\n",
       "    }\n",
       "</style>\n",
       "<table border=\"1\" class=\"dataframe\">\n",
       "  <thead>\n",
       "    <tr style=\"text-align: right;\">\n",
       "      <th></th>\n",
       "      <th>userID</th>\n",
       "      <th>MovieID</th>\n",
       "      <th>release_year</th>\n",
       "      <th>rating</th>\n",
       "    </tr>\n",
       "  </thead>\n",
       "  <tbody>\n",
       "    <tr>\n",
       "      <th>count</th>\n",
       "      <td>1.004795e+08</td>\n",
       "      <td>1.004795e+08</td>\n",
       "      <td>1.004795e+08</td>\n",
       "      <td>1.004795e+08</td>\n",
       "    </tr>\n",
       "    <tr>\n",
       "      <th>mean</th>\n",
       "      <td>1.322489e+06</td>\n",
       "      <td>9.070900e+03</td>\n",
       "      <td>1.993912e+03</td>\n",
       "      <td>3.604298e+00</td>\n",
       "    </tr>\n",
       "    <tr>\n",
       "      <th>std</th>\n",
       "      <td>7.645367e+05</td>\n",
       "      <td>5.131886e+03</td>\n",
       "      <td>1.240083e+01</td>\n",
       "      <td>1.085215e+00</td>\n",
       "    </tr>\n",
       "    <tr>\n",
       "      <th>min</th>\n",
       "      <td>6.000000e+00</td>\n",
       "      <td>1.000000e+00</td>\n",
       "      <td>1.896000e+03</td>\n",
       "      <td>1.000000e+00</td>\n",
       "    </tr>\n",
       "    <tr>\n",
       "      <th>25%</th>\n",
       "      <td>6.611980e+05</td>\n",
       "      <td>4.677000e+03</td>\n",
       "      <td>1.990000e+03</td>\n",
       "      <td>3.000000e+00</td>\n",
       "    </tr>\n",
       "    <tr>\n",
       "      <th>50%</th>\n",
       "      <td>1.319012e+06</td>\n",
       "      <td>9.051000e+03</td>\n",
       "      <td>1.998000e+03</td>\n",
       "      <td>4.000000e+00</td>\n",
       "    </tr>\n",
       "    <tr>\n",
       "      <th>75%</th>\n",
       "      <td>1.984456e+06</td>\n",
       "      <td>1.363500e+04</td>\n",
       "      <td>2.002000e+03</td>\n",
       "      <td>4.000000e+00</td>\n",
       "    </tr>\n",
       "    <tr>\n",
       "      <th>max</th>\n",
       "      <td>2.649429e+06</td>\n",
       "      <td>1.777000e+04</td>\n",
       "      <td>2.005000e+03</td>\n",
       "      <td>5.000000e+00</td>\n",
       "    </tr>\n",
       "  </tbody>\n",
       "</table>\n",
       "</div>"
      ],
      "text/plain": [
       "             userID       MovieID  release_year        rating\n",
       "count  1.004795e+08  1.004795e+08  1.004795e+08  1.004795e+08\n",
       "mean   1.322489e+06  9.070900e+03  1.993912e+03  3.604298e+00\n",
       "std    7.645367e+05  5.131886e+03  1.240083e+01  1.085215e+00\n",
       "min    6.000000e+00  1.000000e+00  1.896000e+03  1.000000e+00\n",
       "25%    6.611980e+05  4.677000e+03  1.990000e+03  3.000000e+00\n",
       "50%    1.319012e+06  9.051000e+03  1.998000e+03  4.000000e+00\n",
       "75%    1.984456e+06  1.363500e+04  2.002000e+03  4.000000e+00\n",
       "max    2.649429e+06  1.777000e+04  2.005000e+03  5.000000e+00"
      ]
     },
     "execution_count": 23,
     "metadata": {},
     "output_type": "execute_result"
    }
   ],
   "source": [
    "#some descriptive statistics\n",
    "df.describe()"
   ]
  },
  {
   "cell_type": "code",
   "execution_count": 24,
   "metadata": {},
   "outputs": [
    {
     "data": {
      "text/plain": [
       "array([[<AxesSubplot: title={'center': 'userID'}>,\n",
       "        <AxesSubplot: title={'center': 'MovieID'}>],\n",
       "       [<AxesSubplot: title={'center': 'release_year'}>,\n",
       "        <AxesSubplot: title={'center': 'rating_date'}>],\n",
       "       [<AxesSubplot: title={'center': 'rating'}>, <AxesSubplot: >]],\n",
       "      dtype=object)"
      ]
     },
     "execution_count": 24,
     "metadata": {},
     "output_type": "execute_result"
    },
    {
     "data": {
      "image/png": "[encoded data removed]",
      "text/plain": [
       "<Figure size 1000x1000 with 6 Axes>"
      ]
     },
     "metadata": {},
     "output_type": "display_data"
    }
   ],
   "source": [
    "#Visualizing an overview of each variable\n",
    "df.hist(figsize=(10,10))"
   ]
  },
  {
   "attachments": {},
   "cell_type": "markdown",
   "metadata": {},
   "source": [
    "*From the above plot, we can see that the distribution of ratings is heavily skewed towards higher ratings. This is not surprising, as most people are more likely to rate a movie or TV show highly than to rate it poorly. The distribution of ratings is also very similar for both movies and TV shows, which suggests that the Netflix Prize dataset is fairly balanced and that there is no significant difference in the way that users rate movies and TV shows. As a result, we can use the same recommender system algorithm to predict ratings for both movies and TV shows.*"
   ]
  },
  {
   "cell_type": "code",
   "execution_count": 25,
   "metadata": {},
   "outputs": [],
   "source": [
    "# Visualizing the distribution of the ratings based on the 'release_year'\n",
    "#plt.figure(figsize=(20,5))\n",
    "#sns.barplot(x='release_year', y='avg_rating_user', data=df, palette='Set3')\n",
    "#plt.title('Distribution of ratings based on the year of release')\n",
    "#plt.show()"
   ]
  },
  {
   "cell_type": "code",
   "execution_count": 26,
   "metadata": {},
   "outputs": [],
   "source": [
    "#defining average rating per user\n",
    "avg_rating_user = df.groupby('userID')['rating'].mean().reset_index()"
   ]
  },
  {
   "attachments": {},
   "cell_type": "markdown",
   "metadata": {},
   "source": [
    "**<b>2.2<span style='color:#F76241'>|</span>CORELLATION ON GENERAL DATASET**"
   ]
  },
  {
   "cell_type": "code",
   "execution_count": 27,
   "metadata": {},
   "outputs": [
    {
     "name": "stderr",
     "output_type": "stream",
     "text": [
      "C:\\Users\\User\\AppData\\Local\\Temp\\ipykernel_964\\1982128369.py:2: FutureWarning: The default value of numeric_only in DataFrame.corr is deprecated. In a future version, it will default to False. Select only valid columns or specify the value of numeric_only to silence this warning.\n",
      "  corr_matrix = df.corr()\n"
     ]
    },
    {
     "data": {
      "image/png": "[encoded data removed]",
      "text/plain": [
       "<Figure size 1000x500 with 2 Axes>"
      ]
     },
     "metadata": {},
     "output_type": "display_data"
    }
   ],
   "source": [
    "# Correlation matrix of the independent Variables\n",
    "corr_matrix = df.corr()\n",
    "fig, ax=plt.subplots(figsize=(10,5))\n",
    "sns.heatmap(corr_matrix, annot=True, ax=ax) #creating a heatmap\n",
    "plt.title(\"Correlation Matrix of numerical variables\")\n",
    "plt.show()"
   ]
  },
  {
   "attachments": {},
   "cell_type": "markdown",
   "metadata": {},
   "source": [
    "**The correlation matrix above shows the correlation between each of the variables in the dataset. The correlation between each variable and itself is 1, as expected. The correlation between each variable and the other variables in the dataset is shown in the table below.**"
   ]
  },
  {
   "attachments": {},
   "cell_type": "markdown",
   "metadata": {},
   "source": [
    "**<b>2.3<span style='color:#F76241'>|</span>EDA ON TRAINING DATASET**"
   ]
  },
  {
   "cell_type": "code",
   "execution_count": 28,
   "metadata": {},
   "outputs": [],
   "source": [
    "#code adopted from https://www.kaggle.com/code/mitishaagarwal/netflix-prize-data\n",
    "# method to make y-axis more readable\n",
    "def human(num, units = 'M'):\n",
    "    units = units.lower()\n",
    "    num = float(num)\n",
    "    if units == 'k':\n",
    "        return str(num/10**3) + \" K\"\n",
    "    elif units == 'm':\n",
    "        return str(num/10**6) + \" M\"\n",
    "    elif units == 'b':\n",
    "        return str(num/10**9) +  \" B\""
   ]
  },
  {
   "cell_type": "code",
   "execution_count": 29,
   "metadata": {},
   "outputs": [],
   "source": [
    "#importing mticker function from matplotlib\n",
    "import matplotlib.ticker as mticker"
   ]
  },
  {
   "cell_type": "code",
   "execution_count": 30,
   "metadata": {},
   "outputs": [
    {
     "data": {
      "image/png": "[encoded data removed]",
      "text/plain": [
       "<Figure size 1000x600 with 1 Axes>"
      ]
     },
     "metadata": {},
     "output_type": "display_data"
    }
   ],
   "source": [
    "#plotting the distribution of ratings over the training dataset\n",
    "fig, ax = plt.subplots(figsize = (10, 6))\n",
    "plt.title('Distribution of Ratings over Training Dataset', fontsize=15)\n",
    "sns.countplot(x = train_df.rating)\n",
    "ticks_loc = ax.get_yticks().tolist()\n",
    "ax.yaxis.set_major_locator(mticker.FixedLocator(ticks_loc))\n",
    "ax.set_yticklabels([human(item, 'M') for item in ax.get_yticks()])\n",
    "plt.xlabel('Ratings')\n",
    "plt.ylabel('Number of Ratings')\n",
    "plt.show()"
   ]
  },
  {
   "cell_type": "code",
   "execution_count": 31,
   "metadata": {},
   "outputs": [
    {
     "data": {
      "image/png": "[encoded data removed]",
      "text/plain": [
       "<Figure size 1000x600 with 1 Axes>"
      ]
     },
     "metadata": {},
     "output_type": "display_data"
    }
   ],
   "source": [
    "#code adopted from https://www.kaggle.com/code/mitishaagarwal/netflix-prize-data\n",
    "#plotting the distribution of ratings/number of ratings per year over the training dataset\n",
    "plt.figure(figsize = (10, 6))\n",
    "ax = train_df.resample('m', on='rating_date')['rating'].count().plot()\n",
    "ax.set_title('No of Ratings (Training data)')\n",
    "plt.xlabel('Year')\n",
    "plt.ylabel('No of Ratings')\n",
    "ticks_loc = ax.get_yticks().tolist()\n",
    "ax.yaxis.set_major_locator(mticker.FixedLocator(ticks_loc))\n",
    "ax.set_yticklabels([human(item, 'M') for item in ticks_loc])\n",
    "plt.show()"
   ]
  },
  {
   "attachments": {},
   "cell_type": "markdown",
   "metadata": {},
   "source": [
    "***From the above chart, we can see that the distributio of the number of ratings are heavily skewed to the right which shows that majority of the ratings had a significant increase from 2004. This is not surprising as the Netflix Prize dataset was released in 2006 and the majority of the ratings were given before the dataset was released.***"
   ]
  },
  {
   "cell_type": "code",
   "execution_count": 32,
   "metadata": {},
   "outputs": [
    {
     "data": {
      "text/plain": [
       "userID\n",
       "305344     335\n",
       "387418     332\n",
       "2439493    326\n",
       "1664010    325\n",
       "2118461    285\n",
       "Name: rating, dtype: int64"
      ]
     },
     "execution_count": 32,
     "metadata": {},
     "output_type": "execute_result"
    }
   ],
   "source": [
    "#grouping the data by the 'userID' and counting the number of movies rated by each user\n",
    "total_rated_movies_per_user = train_df.groupby(by = 'userID')['rating'].count().sort_values(ascending=False)\n",
    "total_rated_movies_per_user.head()"
   ]
  },
  {
   "cell_type": "code",
   "execution_count": 33,
   "metadata": {},
   "outputs": [
    {
     "name": "stderr",
     "output_type": "stream",
     "text": [
      "C:\\Users\\User\\AppData\\Local\\Temp\\ipykernel_964\\1653724369.py:5: FutureWarning: \n",
      "\n",
      "`shade` is now deprecated in favor of `fill`; setting `fill=True`.\n",
      "This will become an error in seaborn v0.14.0; please update your code.\n",
      "\n",
      "  sns.kdeplot(total_rated_movies_per_user, shade=True, ax=ax1)\n",
      "C:\\Users\\User\\AppData\\Local\\Temp\\ipykernel_964\\1653724369.py:10: FutureWarning: \n",
      "\n",
      "`shade` is now deprecated in favor of `fill`; setting `fill=True`.\n",
      "This will become an error in seaborn v0.14.0; please update your code.\n",
      "\n",
      "  sns.kdeplot(total_rated_movies_per_user, shade=True, cumulative=True,ax=ax2)\n"
     ]
    },
    {
     "data": {
      "image/png": "[encoded data removed]",
      "text/plain": [
       "<Figure size 1100x500 with 2 Axes>"
      ]
     },
     "metadata": {},
     "output_type": "display_data"
    }
   ],
   "source": [
    "#plotting the distribution of the number of ratings per user\n",
    "fig = plt.figure(figsize= (11, 5))\n",
    "\n",
    "ax1 = plt.subplot(121)\n",
    "sns.kdeplot(total_rated_movies_per_user, shade=True, ax=ax1)\n",
    "plt.xlabel('No of ratings by user')\n",
    "plt.title(\"PDF\")\n",
    "\n",
    "ax2 = plt.subplot(122)\n",
    "sns.kdeplot(total_rated_movies_per_user, shade=True, cumulative=True,ax=ax2)\n",
    "plt.xlabel('No of ratings by user')\n",
    "plt.title('CDF')\n",
    "\n",
    "plt.show()"
   ]
  },
  {
   "attachments": {},
   "cell_type": "markdown",
   "metadata": {},
   "source": [
    "***From the above  chart, it is evident that the dataet is very sparse. The PDF shows that the probability of a user rating a movie is very low. This is not surprising as the dataset is very large and the number of users is very small.***"
   ]
  },
  {
   "cell_type": "code",
   "execution_count": 34,
   "metadata": {},
   "outputs": [],
   "source": [
    "#distribution of total rated movies per user\n",
    "quantiles = total_rated_movies_per_user.quantile(np.arange(0,1.01,0.01), interpolation='higher')"
   ]
  },
  {
   "cell_type": "code",
   "execution_count": 35,
   "metadata": {},
   "outputs": [
    {
     "data": {
      "image/png": "[encoded data removed]",
      "text/plain": [
       "<Figure size 1000x500 with 1 Axes>"
      ]
     },
     "metadata": {},
     "output_type": "display_data"
    }
   ],
   "source": [
    "#displaying the distribution of total rated movies per user\n",
    "plt.figure(figsize = (10, 5))\n",
    "plt.title(\"Quantiles and their Values\")\n",
    "quantiles.plot()\n",
    "\n",
    "# Quantiles with 0.05 difference\n",
    "plt.scatter(x=quantiles.index[::5], y=quantiles.values[::5], c='orange', \n",
    "    label=\"Quantiles with 0.05 intervals\")\n",
    "\n",
    "# Quantiles with 0.25 difference\n",
    "plt.scatter(x=quantiles.index[::25], y=quantiles.values[::25], c='m', \n",
    "    label=\"Quantiles with 0.25 intervals\")\n",
    "\n",
    "plt.ylabel('No of ratings by user')\n",
    "plt.xlabel('Value at the quantile')\n",
    "plt.legend(loc='best')\n",
    "\n",
    "# Annotate the 25th, 50th, 75th and 100th percentile values\n",
    "for x,y in zip(quantiles.index[::25], quantiles[::25]):\n",
    "    plt.annotate(text=\"({} , {})\".format(x,y), xy=(x,y), xytext=(x-0.05, y+500), fontweight='bold')\n",
    "\n",
    "plt.show()"
   ]
  },
  {
   "attachments": {},
   "cell_type": "markdown",
   "metadata": {},
   "source": [
    "***From the above plot, we can see that one user has rated an average of over 300 movies.***"
   ]
  },
  {
   "attachments": {},
   "cell_type": "markdown",
   "metadata": {},
   "source": [
    "\n",
    "## <b>3<span style='color:#F76241'>|</span>FEATURE ENGINEERING\n",
    "\n",
    "**Creating the matrix of users and movies for the train, validate, fitted and and test dataset. Where the index is the MovieID, the columns are the UserID and the values are the ratings** <br>\n",
    "For each of the divided datasets, I created a pivot dataframe and a sparse amtrix counterpart of users and movies. The index of the matrix is the MovieID, the columns are the UserID and the values are the ratings. This is done so that we can easily access the ratings for each user and movie. <br>"
   ]
  },
  {
   "cell_type": "code",
   "execution_count": 36,
   "metadata": {},
   "outputs": [],
   "source": [
    "#changing df_sample to a pivot table\n",
    "df_pivot = df_sample.pivot_table(index='userID', columns='MovieID', values='rating').fillna(0)"
   ]
  },
  {
   "cell_type": "code",
   "execution_count": 37,
   "metadata": {},
   "outputs": [
    {
     "data": {
      "text/html": [
       "<div>\n",
       "<style scoped>\n",
       "    .dataframe tbody tr th:only-of-type {\n",
       "        vertical-align: middle;\n",
       "    }\n",
       "\n",
       "    .dataframe tbody tr th {\n",
       "        vertical-align: top;\n",
       "    }\n",
       "\n",
       "    .dataframe thead th {\n",
       "        text-align: right;\n",
       "    }\n",
       "</style>\n",
       "<table border=\"1\" class=\"dataframe\">\n",
       "  <thead>\n",
       "    <tr style=\"text-align: right;\">\n",
       "      <th>MovieID</th>\n",
       "      <th>1</th>\n",
       "      <th>2</th>\n",
       "      <th>3</th>\n",
       "      <th>4</th>\n",
       "      <th>5</th>\n",
       "      <th>6</th>\n",
       "      <th>7</th>\n",
       "      <th>8</th>\n",
       "      <th>9</th>\n",
       "      <th>10</th>\n",
       "      <th>...</th>\n",
       "      <th>491</th>\n",
       "      <th>492</th>\n",
       "      <th>493</th>\n",
       "      <th>494</th>\n",
       "      <th>495</th>\n",
       "      <th>496</th>\n",
       "      <th>497</th>\n",
       "      <th>498</th>\n",
       "      <th>499</th>\n",
       "      <th>500</th>\n",
       "    </tr>\n",
       "    <tr>\n",
       "      <th>userID</th>\n",
       "      <th></th>\n",
       "      <th></th>\n",
       "      <th></th>\n",
       "      <th></th>\n",
       "      <th></th>\n",
       "      <th></th>\n",
       "      <th></th>\n",
       "      <th></th>\n",
       "      <th></th>\n",
       "      <th></th>\n",
       "      <th></th>\n",
       "      <th></th>\n",
       "      <th></th>\n",
       "      <th></th>\n",
       "      <th></th>\n",
       "      <th></th>\n",
       "      <th></th>\n",
       "      <th></th>\n",
       "      <th></th>\n",
       "      <th></th>\n",
       "      <th></th>\n",
       "    </tr>\n",
       "  </thead>\n",
       "  <tbody>\n",
       "    <tr>\n",
       "      <th>6</th>\n",
       "      <td>0.0</td>\n",
       "      <td>0.0</td>\n",
       "      <td>0.0</td>\n",
       "      <td>0.0</td>\n",
       "      <td>0.0</td>\n",
       "      <td>0.0</td>\n",
       "      <td>0.0</td>\n",
       "      <td>0.0</td>\n",
       "      <td>0.0</td>\n",
       "      <td>0.0</td>\n",
       "      <td>...</td>\n",
       "      <td>0.0</td>\n",
       "      <td>0.0</td>\n",
       "      <td>0.0</td>\n",
       "      <td>3.0</td>\n",
       "      <td>0.0</td>\n",
       "      <td>0.0</td>\n",
       "      <td>0.0</td>\n",
       "      <td>0.0</td>\n",
       "      <td>0.0</td>\n",
       "      <td>0.0</td>\n",
       "    </tr>\n",
       "    <tr>\n",
       "      <th>7</th>\n",
       "      <td>0.0</td>\n",
       "      <td>0.0</td>\n",
       "      <td>0.0</td>\n",
       "      <td>0.0</td>\n",
       "      <td>0.0</td>\n",
       "      <td>0.0</td>\n",
       "      <td>0.0</td>\n",
       "      <td>5.0</td>\n",
       "      <td>0.0</td>\n",
       "      <td>0.0</td>\n",
       "      <td>...</td>\n",
       "      <td>0.0</td>\n",
       "      <td>0.0</td>\n",
       "      <td>0.0</td>\n",
       "      <td>0.0</td>\n",
       "      <td>0.0</td>\n",
       "      <td>0.0</td>\n",
       "      <td>0.0</td>\n",
       "      <td>0.0</td>\n",
       "      <td>0.0</td>\n",
       "      <td>0.0</td>\n",
       "    </tr>\n",
       "    <tr>\n",
       "      <th>10</th>\n",
       "      <td>0.0</td>\n",
       "      <td>0.0</td>\n",
       "      <td>0.0</td>\n",
       "      <td>0.0</td>\n",
       "      <td>0.0</td>\n",
       "      <td>0.0</td>\n",
       "      <td>0.0</td>\n",
       "      <td>0.0</td>\n",
       "      <td>0.0</td>\n",
       "      <td>0.0</td>\n",
       "      <td>...</td>\n",
       "      <td>0.0</td>\n",
       "      <td>0.0</td>\n",
       "      <td>0.0</td>\n",
       "      <td>0.0</td>\n",
       "      <td>0.0</td>\n",
       "      <td>0.0</td>\n",
       "      <td>0.0</td>\n",
       "      <td>0.0</td>\n",
       "      <td>0.0</td>\n",
       "      <td>0.0</td>\n",
       "    </tr>\n",
       "    <tr>\n",
       "      <th>25</th>\n",
       "      <td>0.0</td>\n",
       "      <td>0.0</td>\n",
       "      <td>0.0</td>\n",
       "      <td>0.0</td>\n",
       "      <td>0.0</td>\n",
       "      <td>0.0</td>\n",
       "      <td>0.0</td>\n",
       "      <td>0.0</td>\n",
       "      <td>0.0</td>\n",
       "      <td>0.0</td>\n",
       "      <td>...</td>\n",
       "      <td>0.0</td>\n",
       "      <td>0.0</td>\n",
       "      <td>0.0</td>\n",
       "      <td>0.0</td>\n",
       "      <td>0.0</td>\n",
       "      <td>0.0</td>\n",
       "      <td>0.0</td>\n",
       "      <td>0.0</td>\n",
       "      <td>0.0</td>\n",
       "      <td>0.0</td>\n",
       "    </tr>\n",
       "    <tr>\n",
       "      <th>33</th>\n",
       "      <td>0.0</td>\n",
       "      <td>0.0</td>\n",
       "      <td>0.0</td>\n",
       "      <td>0.0</td>\n",
       "      <td>0.0</td>\n",
       "      <td>0.0</td>\n",
       "      <td>0.0</td>\n",
       "      <td>0.0</td>\n",
       "      <td>0.0</td>\n",
       "      <td>0.0</td>\n",
       "      <td>...</td>\n",
       "      <td>0.0</td>\n",
       "      <td>0.0</td>\n",
       "      <td>0.0</td>\n",
       "      <td>0.0</td>\n",
       "      <td>0.0</td>\n",
       "      <td>0.0</td>\n",
       "      <td>0.0</td>\n",
       "      <td>0.0</td>\n",
       "      <td>0.0</td>\n",
       "      <td>0.0</td>\n",
       "    </tr>\n",
       "  </tbody>\n",
       "</table>\n",
       "<p>5 rows × 500 columns</p>\n",
       "</div>"
      ],
      "text/plain": [
       "MovieID  1    2    3    4    5    6    7    8    9    10   ...  491  492  493  \\\n",
       "userID                                                     ...                  \n",
       "6        0.0  0.0  0.0  0.0  0.0  0.0  0.0  0.0  0.0  0.0  ...  0.0  0.0  0.0   \n",
       "7        0.0  0.0  0.0  0.0  0.0  0.0  0.0  5.0  0.0  0.0  ...  0.0  0.0  0.0   \n",
       "10       0.0  0.0  0.0  0.0  0.0  0.0  0.0  0.0  0.0  0.0  ...  0.0  0.0  0.0   \n",
       "25       0.0  0.0  0.0  0.0  0.0  0.0  0.0  0.0  0.0  0.0  ...  0.0  0.0  0.0   \n",
       "33       0.0  0.0  0.0  0.0  0.0  0.0  0.0  0.0  0.0  0.0  ...  0.0  0.0  0.0   \n",
       "\n",
       "MovieID  494  495  496  497  498  499  500  \n",
       "userID                                      \n",
       "6        3.0  0.0  0.0  0.0  0.0  0.0  0.0  \n",
       "7        0.0  0.0  0.0  0.0  0.0  0.0  0.0  \n",
       "10       0.0  0.0  0.0  0.0  0.0  0.0  0.0  \n",
       "25       0.0  0.0  0.0  0.0  0.0  0.0  0.0  \n",
       "33       0.0  0.0  0.0  0.0  0.0  0.0  0.0  \n",
       "\n",
       "[5 rows x 500 columns]"
      ]
     },
     "execution_count": 37,
     "metadata": {},
     "output_type": "execute_result"
    }
   ],
   "source": [
    "df_pivot.head()"
   ]
  },
  {
   "cell_type": "code",
   "execution_count": 38,
   "metadata": {},
   "outputs": [],
   "source": [
    "#spltting the df_pivot into train and test\n",
    "pivot_fit, pivot_test = train_test_split(df_pivot, test_size=0.2, random_state=42)"
   ]
  },
  {
   "cell_type": "code",
   "execution_count": 39,
   "metadata": {},
   "outputs": [],
   "source": [
    "#splitting the pivot_fit into train and validation\n",
    "pivot_train, pivot_validation = train_test_split(pivot_fit, test_size=0.2, random_state=42)"
   ]
  },
  {
   "cell_type": "code",
   "execution_count": 40,
   "metadata": {},
   "outputs": [
    {
     "name": "stdout",
     "output_type": "stream",
     "text": [
      "(296135, 500)\n",
      "(236908, 500)\n",
      "(59227, 500)\n",
      "(74034, 500)\n"
     ]
    }
   ],
   "source": [
    "#checking the shape of all the pivot tables\n",
    "print(pivot_fit.shape)\n",
    "print(pivot_train.shape)\n",
    "print(pivot_validation.shape)\n",
    "print(pivot_test.shape)"
   ]
  },
  {
   "attachments": {},
   "cell_type": "markdown",
   "metadata": {},
   "source": [
    "**<span style='color:#F76241'>|</span>FITTED SPARSE MATRIX**"
   ]
  },
  {
   "cell_type": "code",
   "execution_count": 41,
   "metadata": {},
   "outputs": [
    {
     "data": {
      "text/html": [
       "<div>\n",
       "<style scoped>\n",
       "    .dataframe tbody tr th:only-of-type {\n",
       "        vertical-align: middle;\n",
       "    }\n",
       "\n",
       "    .dataframe tbody tr th {\n",
       "        vertical-align: top;\n",
       "    }\n",
       "\n",
       "    .dataframe thead th {\n",
       "        text-align: right;\n",
       "    }\n",
       "</style>\n",
       "<table border=\"1\" class=\"dataframe\">\n",
       "  <thead>\n",
       "    <tr style=\"text-align: right;\">\n",
       "      <th>MovieID</th>\n",
       "      <th>1</th>\n",
       "      <th>2</th>\n",
       "      <th>3</th>\n",
       "      <th>4</th>\n",
       "      <th>5</th>\n",
       "      <th>6</th>\n",
       "      <th>7</th>\n",
       "      <th>8</th>\n",
       "      <th>9</th>\n",
       "      <th>10</th>\n",
       "      <th>...</th>\n",
       "      <th>491</th>\n",
       "      <th>492</th>\n",
       "      <th>493</th>\n",
       "      <th>494</th>\n",
       "      <th>495</th>\n",
       "      <th>496</th>\n",
       "      <th>497</th>\n",
       "      <th>498</th>\n",
       "      <th>499</th>\n",
       "      <th>500</th>\n",
       "    </tr>\n",
       "    <tr>\n",
       "      <th>userID</th>\n",
       "      <th></th>\n",
       "      <th></th>\n",
       "      <th></th>\n",
       "      <th></th>\n",
       "      <th></th>\n",
       "      <th></th>\n",
       "      <th></th>\n",
       "      <th></th>\n",
       "      <th></th>\n",
       "      <th></th>\n",
       "      <th></th>\n",
       "      <th></th>\n",
       "      <th></th>\n",
       "      <th></th>\n",
       "      <th></th>\n",
       "      <th></th>\n",
       "      <th></th>\n",
       "      <th></th>\n",
       "      <th></th>\n",
       "      <th></th>\n",
       "      <th></th>\n",
       "    </tr>\n",
       "  </thead>\n",
       "  <tbody>\n",
       "    <tr>\n",
       "      <th>1585580</th>\n",
       "      <td>0.0</td>\n",
       "      <td>0.0</td>\n",
       "      <td>0.0</td>\n",
       "      <td>0.0</td>\n",
       "      <td>0.0</td>\n",
       "      <td>0.0</td>\n",
       "      <td>0.0</td>\n",
       "      <td>0.0</td>\n",
       "      <td>0.0</td>\n",
       "      <td>0.0</td>\n",
       "      <td>...</td>\n",
       "      <td>0.0</td>\n",
       "      <td>0.0</td>\n",
       "      <td>0.0</td>\n",
       "      <td>0.0</td>\n",
       "      <td>0.0</td>\n",
       "      <td>0.0</td>\n",
       "      <td>0.0</td>\n",
       "      <td>0.0</td>\n",
       "      <td>0.0</td>\n",
       "      <td>0.0</td>\n",
       "    </tr>\n",
       "    <tr>\n",
       "      <th>1872847</th>\n",
       "      <td>0.0</td>\n",
       "      <td>0.0</td>\n",
       "      <td>0.0</td>\n",
       "      <td>0.0</td>\n",
       "      <td>0.0</td>\n",
       "      <td>0.0</td>\n",
       "      <td>0.0</td>\n",
       "      <td>0.0</td>\n",
       "      <td>0.0</td>\n",
       "      <td>0.0</td>\n",
       "      <td>...</td>\n",
       "      <td>0.0</td>\n",
       "      <td>0.0</td>\n",
       "      <td>0.0</td>\n",
       "      <td>0.0</td>\n",
       "      <td>0.0</td>\n",
       "      <td>0.0</td>\n",
       "      <td>0.0</td>\n",
       "      <td>0.0</td>\n",
       "      <td>0.0</td>\n",
       "      <td>0.0</td>\n",
       "    </tr>\n",
       "    <tr>\n",
       "      <th>325393</th>\n",
       "      <td>0.0</td>\n",
       "      <td>0.0</td>\n",
       "      <td>0.0</td>\n",
       "      <td>0.0</td>\n",
       "      <td>0.0</td>\n",
       "      <td>0.0</td>\n",
       "      <td>0.0</td>\n",
       "      <td>0.0</td>\n",
       "      <td>0.0</td>\n",
       "      <td>0.0</td>\n",
       "      <td>...</td>\n",
       "      <td>0.0</td>\n",
       "      <td>0.0</td>\n",
       "      <td>0.0</td>\n",
       "      <td>0.0</td>\n",
       "      <td>0.0</td>\n",
       "      <td>0.0</td>\n",
       "      <td>0.0</td>\n",
       "      <td>0.0</td>\n",
       "      <td>0.0</td>\n",
       "      <td>0.0</td>\n",
       "    </tr>\n",
       "    <tr>\n",
       "      <th>1361719</th>\n",
       "      <td>0.0</td>\n",
       "      <td>0.0</td>\n",
       "      <td>0.0</td>\n",
       "      <td>0.0</td>\n",
       "      <td>0.0</td>\n",
       "      <td>0.0</td>\n",
       "      <td>0.0</td>\n",
       "      <td>0.0</td>\n",
       "      <td>0.0</td>\n",
       "      <td>0.0</td>\n",
       "      <td>...</td>\n",
       "      <td>0.0</td>\n",
       "      <td>0.0</td>\n",
       "      <td>0.0</td>\n",
       "      <td>0.0</td>\n",
       "      <td>0.0</td>\n",
       "      <td>0.0</td>\n",
       "      <td>0.0</td>\n",
       "      <td>0.0</td>\n",
       "      <td>0.0</td>\n",
       "      <td>0.0</td>\n",
       "    </tr>\n",
       "    <tr>\n",
       "      <th>57545</th>\n",
       "      <td>0.0</td>\n",
       "      <td>0.0</td>\n",
       "      <td>0.0</td>\n",
       "      <td>0.0</td>\n",
       "      <td>0.0</td>\n",
       "      <td>0.0</td>\n",
       "      <td>0.0</td>\n",
       "      <td>0.0</td>\n",
       "      <td>0.0</td>\n",
       "      <td>0.0</td>\n",
       "      <td>...</td>\n",
       "      <td>0.0</td>\n",
       "      <td>0.0</td>\n",
       "      <td>0.0</td>\n",
       "      <td>0.0</td>\n",
       "      <td>0.0</td>\n",
       "      <td>0.0</td>\n",
       "      <td>0.0</td>\n",
       "      <td>0.0</td>\n",
       "      <td>0.0</td>\n",
       "      <td>0.0</td>\n",
       "    </tr>\n",
       "  </tbody>\n",
       "</table>\n",
       "<p>5 rows × 500 columns</p>\n",
       "</div>"
      ],
      "text/plain": [
       "MovieID  1    2    3    4    5    6    7    8    9    10   ...  491  492  493  \\\n",
       "userID                                                     ...                  \n",
       "1585580  0.0  0.0  0.0  0.0  0.0  0.0  0.0  0.0  0.0  0.0  ...  0.0  0.0  0.0   \n",
       "1872847  0.0  0.0  0.0  0.0  0.0  0.0  0.0  0.0  0.0  0.0  ...  0.0  0.0  0.0   \n",
       "325393   0.0  0.0  0.0  0.0  0.0  0.0  0.0  0.0  0.0  0.0  ...  0.0  0.0  0.0   \n",
       "1361719  0.0  0.0  0.0  0.0  0.0  0.0  0.0  0.0  0.0  0.0  ...  0.0  0.0  0.0   \n",
       "57545    0.0  0.0  0.0  0.0  0.0  0.0  0.0  0.0  0.0  0.0  ...  0.0  0.0  0.0   \n",
       "\n",
       "MovieID  494  495  496  497  498  499  500  \n",
       "userID                                      \n",
       "1585580  0.0  0.0  0.0  0.0  0.0  0.0  0.0  \n",
       "1872847  0.0  0.0  0.0  0.0  0.0  0.0  0.0  \n",
       "325393   0.0  0.0  0.0  0.0  0.0  0.0  0.0  \n",
       "1361719  0.0  0.0  0.0  0.0  0.0  0.0  0.0  \n",
       "57545    0.0  0.0  0.0  0.0  0.0  0.0  0.0  \n",
       "\n",
       "[5 rows x 500 columns]"
      ]
     },
     "execution_count": 41,
     "metadata": {},
     "output_type": "execute_result"
    }
   ],
   "source": [
    "pivot_fit.head()"
   ]
  },
  {
   "cell_type": "code",
   "execution_count": 44,
   "metadata": {},
   "outputs": [],
   "source": [
    "#create a sparse matrix for the fitted dataset\n",
    "fit_sparse_matrix = csr_matrix(pivot_fit.values)"
   ]
  },
  {
   "attachments": {},
   "cell_type": "markdown",
   "metadata": {},
   "source": [
    "**<span style='color:#F76241'>|</span>TRAIN SPARSE MATRIX**"
   ]
  },
  {
   "cell_type": "code",
   "execution_count": 45,
   "metadata": {},
   "outputs": [
    {
     "data": {
      "text/html": [
       "<div>\n",
       "<style scoped>\n",
       "    .dataframe tbody tr th:only-of-type {\n",
       "        vertical-align: middle;\n",
       "    }\n",
       "\n",
       "    .dataframe tbody tr th {\n",
       "        vertical-align: top;\n",
       "    }\n",
       "\n",
       "    .dataframe thead th {\n",
       "        text-align: right;\n",
       "    }\n",
       "</style>\n",
       "<table border=\"1\" class=\"dataframe\">\n",
       "  <thead>\n",
       "    <tr style=\"text-align: right;\">\n",
       "      <th>MovieID</th>\n",
       "      <th>1</th>\n",
       "      <th>2</th>\n",
       "      <th>3</th>\n",
       "      <th>4</th>\n",
       "      <th>5</th>\n",
       "      <th>6</th>\n",
       "      <th>7</th>\n",
       "      <th>8</th>\n",
       "      <th>9</th>\n",
       "      <th>10</th>\n",
       "      <th>...</th>\n",
       "      <th>491</th>\n",
       "      <th>492</th>\n",
       "      <th>493</th>\n",
       "      <th>494</th>\n",
       "      <th>495</th>\n",
       "      <th>496</th>\n",
       "      <th>497</th>\n",
       "      <th>498</th>\n",
       "      <th>499</th>\n",
       "      <th>500</th>\n",
       "    </tr>\n",
       "    <tr>\n",
       "      <th>userID</th>\n",
       "      <th></th>\n",
       "      <th></th>\n",
       "      <th></th>\n",
       "      <th></th>\n",
       "      <th></th>\n",
       "      <th></th>\n",
       "      <th></th>\n",
       "      <th></th>\n",
       "      <th></th>\n",
       "      <th></th>\n",
       "      <th></th>\n",
       "      <th></th>\n",
       "      <th></th>\n",
       "      <th></th>\n",
       "      <th></th>\n",
       "      <th></th>\n",
       "      <th></th>\n",
       "      <th></th>\n",
       "      <th></th>\n",
       "      <th></th>\n",
       "      <th></th>\n",
       "    </tr>\n",
       "  </thead>\n",
       "  <tbody>\n",
       "    <tr>\n",
       "      <th>788222</th>\n",
       "      <td>0.0</td>\n",
       "      <td>0.0</td>\n",
       "      <td>0.0</td>\n",
       "      <td>0.0</td>\n",
       "      <td>0.0</td>\n",
       "      <td>0.0</td>\n",
       "      <td>0.0</td>\n",
       "      <td>0.0</td>\n",
       "      <td>0.0</td>\n",
       "      <td>0.0</td>\n",
       "      <td>...</td>\n",
       "      <td>0.0</td>\n",
       "      <td>0.0</td>\n",
       "      <td>0.0</td>\n",
       "      <td>0.0</td>\n",
       "      <td>0.0</td>\n",
       "      <td>0.0</td>\n",
       "      <td>0.0</td>\n",
       "      <td>0.0</td>\n",
       "      <td>0.0</td>\n",
       "      <td>0.0</td>\n",
       "    </tr>\n",
       "    <tr>\n",
       "      <th>2333075</th>\n",
       "      <td>0.0</td>\n",
       "      <td>0.0</td>\n",
       "      <td>0.0</td>\n",
       "      <td>0.0</td>\n",
       "      <td>0.0</td>\n",
       "      <td>0.0</td>\n",
       "      <td>0.0</td>\n",
       "      <td>0.0</td>\n",
       "      <td>0.0</td>\n",
       "      <td>0.0</td>\n",
       "      <td>...</td>\n",
       "      <td>0.0</td>\n",
       "      <td>0.0</td>\n",
       "      <td>0.0</td>\n",
       "      <td>0.0</td>\n",
       "      <td>0.0</td>\n",
       "      <td>0.0</td>\n",
       "      <td>0.0</td>\n",
       "      <td>0.0</td>\n",
       "      <td>0.0</td>\n",
       "      <td>0.0</td>\n",
       "    </tr>\n",
       "    <tr>\n",
       "      <th>1779088</th>\n",
       "      <td>0.0</td>\n",
       "      <td>0.0</td>\n",
       "      <td>0.0</td>\n",
       "      <td>0.0</td>\n",
       "      <td>0.0</td>\n",
       "      <td>0.0</td>\n",
       "      <td>0.0</td>\n",
       "      <td>0.0</td>\n",
       "      <td>0.0</td>\n",
       "      <td>0.0</td>\n",
       "      <td>...</td>\n",
       "      <td>0.0</td>\n",
       "      <td>0.0</td>\n",
       "      <td>0.0</td>\n",
       "      <td>0.0</td>\n",
       "      <td>0.0</td>\n",
       "      <td>0.0</td>\n",
       "      <td>0.0</td>\n",
       "      <td>0.0</td>\n",
       "      <td>0.0</td>\n",
       "      <td>0.0</td>\n",
       "    </tr>\n",
       "    <tr>\n",
       "      <th>1123966</th>\n",
       "      <td>0.0</td>\n",
       "      <td>0.0</td>\n",
       "      <td>0.0</td>\n",
       "      <td>0.0</td>\n",
       "      <td>0.0</td>\n",
       "      <td>0.0</td>\n",
       "      <td>0.0</td>\n",
       "      <td>0.0</td>\n",
       "      <td>0.0</td>\n",
       "      <td>0.0</td>\n",
       "      <td>...</td>\n",
       "      <td>0.0</td>\n",
       "      <td>0.0</td>\n",
       "      <td>0.0</td>\n",
       "      <td>0.0</td>\n",
       "      <td>0.0</td>\n",
       "      <td>0.0</td>\n",
       "      <td>0.0</td>\n",
       "      <td>0.0</td>\n",
       "      <td>0.0</td>\n",
       "      <td>0.0</td>\n",
       "    </tr>\n",
       "    <tr>\n",
       "      <th>1687339</th>\n",
       "      <td>0.0</td>\n",
       "      <td>0.0</td>\n",
       "      <td>0.0</td>\n",
       "      <td>0.0</td>\n",
       "      <td>0.0</td>\n",
       "      <td>0.0</td>\n",
       "      <td>0.0</td>\n",
       "      <td>3.0</td>\n",
       "      <td>0.0</td>\n",
       "      <td>0.0</td>\n",
       "      <td>...</td>\n",
       "      <td>0.0</td>\n",
       "      <td>0.0</td>\n",
       "      <td>0.0</td>\n",
       "      <td>0.0</td>\n",
       "      <td>0.0</td>\n",
       "      <td>0.0</td>\n",
       "      <td>0.0</td>\n",
       "      <td>0.0</td>\n",
       "      <td>0.0</td>\n",
       "      <td>0.0</td>\n",
       "    </tr>\n",
       "  </tbody>\n",
       "</table>\n",
       "<p>5 rows × 500 columns</p>\n",
       "</div>"
      ],
      "text/plain": [
       "MovieID  1    2    3    4    5    6    7    8    9    10   ...  491  492  493  \\\n",
       "userID                                                     ...                  \n",
       "788222   0.0  0.0  0.0  0.0  0.0  0.0  0.0  0.0  0.0  0.0  ...  0.0  0.0  0.0   \n",
       "2333075  0.0  0.0  0.0  0.0  0.0  0.0  0.0  0.0  0.0  0.0  ...  0.0  0.0  0.0   \n",
       "1779088  0.0  0.0  0.0  0.0  0.0  0.0  0.0  0.0  0.0  0.0  ...  0.0  0.0  0.0   \n",
       "1123966  0.0  0.0  0.0  0.0  0.0  0.0  0.0  0.0  0.0  0.0  ...  0.0  0.0  0.0   \n",
       "1687339  0.0  0.0  0.0  0.0  0.0  0.0  0.0  3.0  0.0  0.0  ...  0.0  0.0  0.0   \n",
       "\n",
       "MovieID  494  495  496  497  498  499  500  \n",
       "userID                                      \n",
       "788222   0.0  0.0  0.0  0.0  0.0  0.0  0.0  \n",
       "2333075  0.0  0.0  0.0  0.0  0.0  0.0  0.0  \n",
       "1779088  0.0  0.0  0.0  0.0  0.0  0.0  0.0  \n",
       "1123966  0.0  0.0  0.0  0.0  0.0  0.0  0.0  \n",
       "1687339  0.0  0.0  0.0  0.0  0.0  0.0  0.0  \n",
       "\n",
       "[5 rows x 500 columns]"
      ]
     },
     "execution_count": 45,
     "metadata": {},
     "output_type": "execute_result"
    }
   ],
   "source": [
    "pivot_train.head()"
   ]
  },
  {
   "cell_type": "code",
   "execution_count": 46,
   "metadata": {},
   "outputs": [],
   "source": [
    "#creating a sparse matrix for train dataset\n",
    "train_sparse_matrix = csr_matrix(pivot_train.values)"
   ]
  },
  {
   "attachments": {},
   "cell_type": "markdown",
   "metadata": {},
   "source": [
    "**<span style='color:#F76241'>|</span>VALIDATE SPARSE MATRIX**"
   ]
  },
  {
   "cell_type": "code",
   "execution_count": 47,
   "metadata": {},
   "outputs": [
    {
     "data": {
      "text/html": [
       "<div>\n",
       "<style scoped>\n",
       "    .dataframe tbody tr th:only-of-type {\n",
       "        vertical-align: middle;\n",
       "    }\n",
       "\n",
       "    .dataframe tbody tr th {\n",
       "        vertical-align: top;\n",
       "    }\n",
       "\n",
       "    .dataframe thead th {\n",
       "        text-align: right;\n",
       "    }\n",
       "</style>\n",
       "<table border=\"1\" class=\"dataframe\">\n",
       "  <thead>\n",
       "    <tr style=\"text-align: right;\">\n",
       "      <th>MovieID</th>\n",
       "      <th>1</th>\n",
       "      <th>2</th>\n",
       "      <th>3</th>\n",
       "      <th>4</th>\n",
       "      <th>5</th>\n",
       "      <th>6</th>\n",
       "      <th>7</th>\n",
       "      <th>8</th>\n",
       "      <th>9</th>\n",
       "      <th>10</th>\n",
       "      <th>...</th>\n",
       "      <th>491</th>\n",
       "      <th>492</th>\n",
       "      <th>493</th>\n",
       "      <th>494</th>\n",
       "      <th>495</th>\n",
       "      <th>496</th>\n",
       "      <th>497</th>\n",
       "      <th>498</th>\n",
       "      <th>499</th>\n",
       "      <th>500</th>\n",
       "    </tr>\n",
       "    <tr>\n",
       "      <th>userID</th>\n",
       "      <th></th>\n",
       "      <th></th>\n",
       "      <th></th>\n",
       "      <th></th>\n",
       "      <th></th>\n",
       "      <th></th>\n",
       "      <th></th>\n",
       "      <th></th>\n",
       "      <th></th>\n",
       "      <th></th>\n",
       "      <th></th>\n",
       "      <th></th>\n",
       "      <th></th>\n",
       "      <th></th>\n",
       "      <th></th>\n",
       "      <th></th>\n",
       "      <th></th>\n",
       "      <th></th>\n",
       "      <th></th>\n",
       "      <th></th>\n",
       "      <th></th>\n",
       "    </tr>\n",
       "  </thead>\n",
       "  <tbody>\n",
       "    <tr>\n",
       "      <th>2396379</th>\n",
       "      <td>0.0</td>\n",
       "      <td>0.0</td>\n",
       "      <td>0.0</td>\n",
       "      <td>0.0</td>\n",
       "      <td>0.0</td>\n",
       "      <td>0.0</td>\n",
       "      <td>0.0</td>\n",
       "      <td>0.0</td>\n",
       "      <td>0.0</td>\n",
       "      <td>0.0</td>\n",
       "      <td>...</td>\n",
       "      <td>0.0</td>\n",
       "      <td>0.0</td>\n",
       "      <td>0.0</td>\n",
       "      <td>0.0</td>\n",
       "      <td>0.0</td>\n",
       "      <td>0.0</td>\n",
       "      <td>0.0</td>\n",
       "      <td>0.0</td>\n",
       "      <td>0.0</td>\n",
       "      <td>0.0</td>\n",
       "    </tr>\n",
       "    <tr>\n",
       "      <th>284762</th>\n",
       "      <td>0.0</td>\n",
       "      <td>0.0</td>\n",
       "      <td>0.0</td>\n",
       "      <td>0.0</td>\n",
       "      <td>0.0</td>\n",
       "      <td>0.0</td>\n",
       "      <td>0.0</td>\n",
       "      <td>0.0</td>\n",
       "      <td>0.0</td>\n",
       "      <td>0.0</td>\n",
       "      <td>...</td>\n",
       "      <td>0.0</td>\n",
       "      <td>0.0</td>\n",
       "      <td>0.0</td>\n",
       "      <td>0.0</td>\n",
       "      <td>0.0</td>\n",
       "      <td>0.0</td>\n",
       "      <td>0.0</td>\n",
       "      <td>0.0</td>\n",
       "      <td>0.0</td>\n",
       "      <td>0.0</td>\n",
       "    </tr>\n",
       "    <tr>\n",
       "      <th>2574924</th>\n",
       "      <td>0.0</td>\n",
       "      <td>0.0</td>\n",
       "      <td>0.0</td>\n",
       "      <td>0.0</td>\n",
       "      <td>0.0</td>\n",
       "      <td>0.0</td>\n",
       "      <td>0.0</td>\n",
       "      <td>0.0</td>\n",
       "      <td>0.0</td>\n",
       "      <td>0.0</td>\n",
       "      <td>...</td>\n",
       "      <td>0.0</td>\n",
       "      <td>0.0</td>\n",
       "      <td>0.0</td>\n",
       "      <td>0.0</td>\n",
       "      <td>0.0</td>\n",
       "      <td>0.0</td>\n",
       "      <td>0.0</td>\n",
       "      <td>0.0</td>\n",
       "      <td>0.0</td>\n",
       "      <td>0.0</td>\n",
       "    </tr>\n",
       "    <tr>\n",
       "      <th>776333</th>\n",
       "      <td>0.0</td>\n",
       "      <td>0.0</td>\n",
       "      <td>0.0</td>\n",
       "      <td>0.0</td>\n",
       "      <td>0.0</td>\n",
       "      <td>0.0</td>\n",
       "      <td>0.0</td>\n",
       "      <td>0.0</td>\n",
       "      <td>0.0</td>\n",
       "      <td>0.0</td>\n",
       "      <td>...</td>\n",
       "      <td>0.0</td>\n",
       "      <td>0.0</td>\n",
       "      <td>0.0</td>\n",
       "      <td>0.0</td>\n",
       "      <td>0.0</td>\n",
       "      <td>0.0</td>\n",
       "      <td>0.0</td>\n",
       "      <td>0.0</td>\n",
       "      <td>0.0</td>\n",
       "      <td>0.0</td>\n",
       "    </tr>\n",
       "    <tr>\n",
       "      <th>1138548</th>\n",
       "      <td>0.0</td>\n",
       "      <td>0.0</td>\n",
       "      <td>0.0</td>\n",
       "      <td>0.0</td>\n",
       "      <td>0.0</td>\n",
       "      <td>0.0</td>\n",
       "      <td>0.0</td>\n",
       "      <td>0.0</td>\n",
       "      <td>0.0</td>\n",
       "      <td>0.0</td>\n",
       "      <td>...</td>\n",
       "      <td>0.0</td>\n",
       "      <td>0.0</td>\n",
       "      <td>0.0</td>\n",
       "      <td>0.0</td>\n",
       "      <td>0.0</td>\n",
       "      <td>0.0</td>\n",
       "      <td>0.0</td>\n",
       "      <td>0.0</td>\n",
       "      <td>0.0</td>\n",
       "      <td>0.0</td>\n",
       "    </tr>\n",
       "  </tbody>\n",
       "</table>\n",
       "<p>5 rows × 500 columns</p>\n",
       "</div>"
      ],
      "text/plain": [
       "MovieID  1    2    3    4    5    6    7    8    9    10   ...  491  492  493  \\\n",
       "userID                                                     ...                  \n",
       "2396379  0.0  0.0  0.0  0.0  0.0  0.0  0.0  0.0  0.0  0.0  ...  0.0  0.0  0.0   \n",
       "284762   0.0  0.0  0.0  0.0  0.0  0.0  0.0  0.0  0.0  0.0  ...  0.0  0.0  0.0   \n",
       "2574924  0.0  0.0  0.0  0.0  0.0  0.0  0.0  0.0  0.0  0.0  ...  0.0  0.0  0.0   \n",
       "776333   0.0  0.0  0.0  0.0  0.0  0.0  0.0  0.0  0.0  0.0  ...  0.0  0.0  0.0   \n",
       "1138548  0.0  0.0  0.0  0.0  0.0  0.0  0.0  0.0  0.0  0.0  ...  0.0  0.0  0.0   \n",
       "\n",
       "MovieID  494  495  496  497  498  499  500  \n",
       "userID                                      \n",
       "2396379  0.0  0.0  0.0  0.0  0.0  0.0  0.0  \n",
       "284762   0.0  0.0  0.0  0.0  0.0  0.0  0.0  \n",
       "2574924  0.0  0.0  0.0  0.0  0.0  0.0  0.0  \n",
       "776333   0.0  0.0  0.0  0.0  0.0  0.0  0.0  \n",
       "1138548  0.0  0.0  0.0  0.0  0.0  0.0  0.0  \n",
       "\n",
       "[5 rows x 500 columns]"
      ]
     },
     "execution_count": 47,
     "metadata": {},
     "output_type": "execute_result"
    }
   ],
   "source": [
    "pivot_validation.head()"
   ]
  },
  {
   "cell_type": "code",
   "execution_count": 48,
   "metadata": {},
   "outputs": [],
   "source": [
    "#creating a sparse matrix for validation dataset\n",
    "val_sparse_matrix = csr_matrix(pivot_validation.values)"
   ]
  },
  {
   "attachments": {},
   "cell_type": "markdown",
   "metadata": {},
   "source": [
    "**<span style='color:#F76241'>|</span>TEST SPARSE MATRIX**"
   ]
  },
  {
   "cell_type": "code",
   "execution_count": 49,
   "metadata": {},
   "outputs": [
    {
     "data": {
      "text/html": [
       "<div>\n",
       "<style scoped>\n",
       "    .dataframe tbody tr th:only-of-type {\n",
       "        vertical-align: middle;\n",
       "    }\n",
       "\n",
       "    .dataframe tbody tr th {\n",
       "        vertical-align: top;\n",
       "    }\n",
       "\n",
       "    .dataframe thead th {\n",
       "        text-align: right;\n",
       "    }\n",
       "</style>\n",
       "<table border=\"1\" class=\"dataframe\">\n",
       "  <thead>\n",
       "    <tr style=\"text-align: right;\">\n",
       "      <th>MovieID</th>\n",
       "      <th>1</th>\n",
       "      <th>2</th>\n",
       "      <th>3</th>\n",
       "      <th>4</th>\n",
       "      <th>5</th>\n",
       "      <th>6</th>\n",
       "      <th>7</th>\n",
       "      <th>8</th>\n",
       "      <th>9</th>\n",
       "      <th>10</th>\n",
       "      <th>...</th>\n",
       "      <th>491</th>\n",
       "      <th>492</th>\n",
       "      <th>493</th>\n",
       "      <th>494</th>\n",
       "      <th>495</th>\n",
       "      <th>496</th>\n",
       "      <th>497</th>\n",
       "      <th>498</th>\n",
       "      <th>499</th>\n",
       "      <th>500</th>\n",
       "    </tr>\n",
       "    <tr>\n",
       "      <th>userID</th>\n",
       "      <th></th>\n",
       "      <th></th>\n",
       "      <th></th>\n",
       "      <th></th>\n",
       "      <th></th>\n",
       "      <th></th>\n",
       "      <th></th>\n",
       "      <th></th>\n",
       "      <th></th>\n",
       "      <th></th>\n",
       "      <th></th>\n",
       "      <th></th>\n",
       "      <th></th>\n",
       "      <th></th>\n",
       "      <th></th>\n",
       "      <th></th>\n",
       "      <th></th>\n",
       "      <th></th>\n",
       "      <th></th>\n",
       "      <th></th>\n",
       "      <th></th>\n",
       "    </tr>\n",
       "  </thead>\n",
       "  <tbody>\n",
       "    <tr>\n",
       "      <th>1208822</th>\n",
       "      <td>0.0</td>\n",
       "      <td>0.0</td>\n",
       "      <td>0.0</td>\n",
       "      <td>0.0</td>\n",
       "      <td>0.0</td>\n",
       "      <td>0.0</td>\n",
       "      <td>0.0</td>\n",
       "      <td>0.0</td>\n",
       "      <td>0.0</td>\n",
       "      <td>0.0</td>\n",
       "      <td>...</td>\n",
       "      <td>0.0</td>\n",
       "      <td>0.0</td>\n",
       "      <td>0.0</td>\n",
       "      <td>0.0</td>\n",
       "      <td>0.0</td>\n",
       "      <td>0.0</td>\n",
       "      <td>0.0</td>\n",
       "      <td>0.0</td>\n",
       "      <td>0.0</td>\n",
       "      <td>0.0</td>\n",
       "    </tr>\n",
       "    <tr>\n",
       "      <th>49676</th>\n",
       "      <td>0.0</td>\n",
       "      <td>0.0</td>\n",
       "      <td>0.0</td>\n",
       "      <td>0.0</td>\n",
       "      <td>0.0</td>\n",
       "      <td>0.0</td>\n",
       "      <td>0.0</td>\n",
       "      <td>0.0</td>\n",
       "      <td>0.0</td>\n",
       "      <td>0.0</td>\n",
       "      <td>...</td>\n",
       "      <td>0.0</td>\n",
       "      <td>0.0</td>\n",
       "      <td>0.0</td>\n",
       "      <td>0.0</td>\n",
       "      <td>0.0</td>\n",
       "      <td>0.0</td>\n",
       "      <td>0.0</td>\n",
       "      <td>0.0</td>\n",
       "      <td>0.0</td>\n",
       "      <td>0.0</td>\n",
       "    </tr>\n",
       "    <tr>\n",
       "      <th>1367766</th>\n",
       "      <td>0.0</td>\n",
       "      <td>0.0</td>\n",
       "      <td>0.0</td>\n",
       "      <td>0.0</td>\n",
       "      <td>0.0</td>\n",
       "      <td>0.0</td>\n",
       "      <td>0.0</td>\n",
       "      <td>2.0</td>\n",
       "      <td>0.0</td>\n",
       "      <td>0.0</td>\n",
       "      <td>...</td>\n",
       "      <td>0.0</td>\n",
       "      <td>0.0</td>\n",
       "      <td>0.0</td>\n",
       "      <td>0.0</td>\n",
       "      <td>0.0</td>\n",
       "      <td>0.0</td>\n",
       "      <td>0.0</td>\n",
       "      <td>0.0</td>\n",
       "      <td>0.0</td>\n",
       "      <td>0.0</td>\n",
       "    </tr>\n",
       "    <tr>\n",
       "      <th>1851535</th>\n",
       "      <td>0.0</td>\n",
       "      <td>0.0</td>\n",
       "      <td>0.0</td>\n",
       "      <td>0.0</td>\n",
       "      <td>0.0</td>\n",
       "      <td>0.0</td>\n",
       "      <td>0.0</td>\n",
       "      <td>0.0</td>\n",
       "      <td>0.0</td>\n",
       "      <td>0.0</td>\n",
       "      <td>...</td>\n",
       "      <td>0.0</td>\n",
       "      <td>0.0</td>\n",
       "      <td>0.0</td>\n",
       "      <td>0.0</td>\n",
       "      <td>0.0</td>\n",
       "      <td>0.0</td>\n",
       "      <td>0.0</td>\n",
       "      <td>0.0</td>\n",
       "      <td>0.0</td>\n",
       "      <td>0.0</td>\n",
       "    </tr>\n",
       "    <tr>\n",
       "      <th>2574762</th>\n",
       "      <td>0.0</td>\n",
       "      <td>0.0</td>\n",
       "      <td>0.0</td>\n",
       "      <td>0.0</td>\n",
       "      <td>0.0</td>\n",
       "      <td>0.0</td>\n",
       "      <td>0.0</td>\n",
       "      <td>0.0</td>\n",
       "      <td>0.0</td>\n",
       "      <td>0.0</td>\n",
       "      <td>...</td>\n",
       "      <td>0.0</td>\n",
       "      <td>0.0</td>\n",
       "      <td>0.0</td>\n",
       "      <td>0.0</td>\n",
       "      <td>0.0</td>\n",
       "      <td>0.0</td>\n",
       "      <td>0.0</td>\n",
       "      <td>0.0</td>\n",
       "      <td>0.0</td>\n",
       "      <td>0.0</td>\n",
       "    </tr>\n",
       "  </tbody>\n",
       "</table>\n",
       "<p>5 rows × 500 columns</p>\n",
       "</div>"
      ],
      "text/plain": [
       "MovieID  1    2    3    4    5    6    7    8    9    10   ...  491  492  493  \\\n",
       "userID                                                     ...                  \n",
       "1208822  0.0  0.0  0.0  0.0  0.0  0.0  0.0  0.0  0.0  0.0  ...  0.0  0.0  0.0   \n",
       "49676    0.0  0.0  0.0  0.0  0.0  0.0  0.0  0.0  0.0  0.0  ...  0.0  0.0  0.0   \n",
       "1367766  0.0  0.0  0.0  0.0  0.0  0.0  0.0  2.0  0.0  0.0  ...  0.0  0.0  0.0   \n",
       "1851535  0.0  0.0  0.0  0.0  0.0  0.0  0.0  0.0  0.0  0.0  ...  0.0  0.0  0.0   \n",
       "2574762  0.0  0.0  0.0  0.0  0.0  0.0  0.0  0.0  0.0  0.0  ...  0.0  0.0  0.0   \n",
       "\n",
       "MovieID  494  495  496  497  498  499  500  \n",
       "userID                                      \n",
       "1208822  0.0  0.0  0.0  0.0  0.0  0.0  0.0  \n",
       "49676    0.0  0.0  0.0  0.0  0.0  0.0  0.0  \n",
       "1367766  0.0  0.0  0.0  0.0  0.0  0.0  0.0  \n",
       "1851535  0.0  0.0  0.0  0.0  0.0  0.0  0.0  \n",
       "2574762  0.0  0.0  0.0  0.0  0.0  0.0  0.0  \n",
       "\n",
       "[5 rows x 500 columns]"
      ]
     },
     "execution_count": 49,
     "metadata": {},
     "output_type": "execute_result"
    }
   ],
   "source": [
    "pivot_test.head()\n"
   ]
  },
  {
   "cell_type": "code",
   "execution_count": 50,
   "metadata": {},
   "outputs": [],
   "source": [
    "#creating a sparse matrix for test dataset\n",
    "test_sparse_matrix = csr_matrix(pivot_test.values)"
   ]
  },
  {
   "attachments": {},
   "cell_type": "markdown",
   "metadata": {},
   "source": [
    "## <b>4<span style='color:#F76241'>|</span>MODEL BUILDING"
   ]
  },
  {
   "attachments": {},
   "cell_type": "markdown",
   "metadata": {},
   "source": [
    "### <b>4.1<span style='color:#F76241'>|</span>Prediction Using KNN"
   ]
  },
  {
   "cell_type": "code",
   "execution_count": 51,
   "metadata": {},
   "outputs": [
    {
     "name": "stdout",
     "output_type": "stream",
     "text": [
      "Sparsity of Train Matrix: 98.48752342681547 % \n"
     ]
    }
   ],
   "source": [
    "# The Sparsity of Train Sparse Matrix\n",
    "us,mv = train_sparse_matrix.shape\n",
    "elem = train_sparse_matrix.count_nonzero()\n",
    "print(\"Sparsity of Train Matrix: {} % \".format(  (1-(elem/(us*mv))) * 100) )"
   ]
  },
  {
   "cell_type": "code",
   "execution_count": 52,
   "metadata": {},
   "outputs": [
    {
     "name": "stdout",
     "output_type": "stream",
     "text": [
      "The sparsity of the matrix is:  0.015124765731845274\n"
     ]
    }
   ],
   "source": [
    "#checking the sparcity of the matrix\n",
    "print(\"The sparsity of the matrix is: \", train_sparse_matrix.nnz/(train_sparse_matrix.shape[0]*train_sparse_matrix.shape[1]))"
   ]
  },
  {
   "attachments": {},
   "cell_type": "markdown",
   "metadata": {},
   "source": [
    "Sparsity of a matrix is defined as the ratio of the number of zero elements in the matrix to the total number of elements in the matrix.\n",
    "\n",
    "In this case, the sparsity of the matrix is calculated as the number of nonzero elements in the sparse matrix test_sparse_matrix divided by the total number of elements in the matrix, which is the product of the number of rows and columns of the matrix.\n",
    "\n",
    "The output of the code shows that the sparsity of the matrix is 0.011241371906116116, which means that only 1.12% of the elements in the matrix are non-zero. This indicates that the matrix is sparse and has a lot of missing values or zero values"
   ]
  },
  {
   "cell_type": "code",
   "execution_count": 53,
   "metadata": {},
   "outputs": [
    {
     "data": {
      "text/plain": [
       "987"
      ]
     },
     "execution_count": 53,
     "metadata": {},
     "output_type": "execute_result"
    }
   ],
   "source": [
    "# Need to clear the RAM in order to run the next few code cells\n",
    "del df\n",
    "del train_df\n",
    "del test_df\n",
    "gc.collect() # garbage collector function to save some RAM"
   ]
  },
  {
   "attachments": {},
   "cell_type": "markdown",
   "metadata": {},
   "source": [
    "***<span style='color:#F76241'>|</span>Training KNN Model***"
   ]
  },
  {
   "cell_type": "code",
   "execution_count": 54,
   "metadata": {},
   "outputs": [
    {
     "name": "stdout",
     "output_type": "stream",
     "text": [
      "Indices of 5 nearest neighbors: [[     1 173940 108309 128886 179993]\n",
      " [ 38798   9781  57766 126727 182313]\n",
      " [     3 233217 225768 179868 232361]\n",
      " [     4  55667 152080 143756 164551]]\n",
      "Distances to 5 nearest neighbors: [[0.00000000e+00 1.38359563e-01 1.38706696e-01 1.40692668e-01\n",
      "  1.95184945e-01]\n",
      " [0.00000000e+00 0.00000000e+00 0.00000000e+00 0.00000000e+00\n",
      "  0.00000000e+00]\n",
      " [2.22044605e-16 1.57299028e-01 1.73189369e-01 1.88497329e-01\n",
      "  1.95905998e-01]\n",
      " [2.22044605e-16 1.73863308e-01 1.85177215e-01 1.85919810e-01\n",
      "  1.91184536e-01]]\n"
     ]
    }
   ],
   "source": [
    "#Running the KNNeighbors model\n",
    "# Create a NearestNeighbors object\n",
    "knn = NearestNeighbors(n_neighbors=5, algorithm='brute', metric='cosine')\n",
    "\n",
    "# Fit the model to the data\n",
    "knn_model = knn.fit(train_sparse_matrix)\n",
    "\n",
    "# Get the 5 nearest neighbors of the first data point\n",
    "distances, indices = knn_model.kneighbors(train_sparse_matrix)\n",
    "indices = indices[1:5]\n",
    "distances = distances[1:5]\n",
    "\n",
    "print('Indices of 5 nearest neighbors:', indices)\n",
    "print('Distances to 5 nearest neighbors:', distances)"
   ]
  },
  {
   "attachments": {},
   "cell_type": "markdown",
   "metadata": {},
   "source": [
    "***<span style='color:#F76241'>|</span>KNN Hyperparameter Tuning***"
   ]
  },
  {
   "attachments": {},
   "cell_type": "markdown",
   "metadata": {},
   "source": [
    "**Since we want to minimize the error between the predicted and actual values, we use the negative mean squared error. By default, GridSearchCV tries to maximize the score, so we need to negate the mean squared error to ensure that the best hyperparameters are the ones that produce the lowest error.**"
   ]
  },
  {
   "cell_type": "code",
   "execution_count": 55,
   "metadata": {},
   "outputs": [
    {
     "name": "stdout",
     "output_type": "stream",
     "text": [
      "Fitting 5 folds for each of 40 candidates, totalling 200 fits\n",
      "Best parameters: {'algorithm': 'auto', 'metric': 'euclidean', 'n_neighbors': 5}\n",
      "Best estimator: NearestNeighbors(metric='euclidean')\n"
     ]
    },
    {
     "name": "stderr",
     "output_type": "stream",
     "text": [
      "c:\\Users\\User\\AppData\\Local\\Programs\\Python\\Python310\\lib\\site-packages\\sklearn\\model_selection\\_search.py:952: UserWarning: One or more of the test scores are non-finite: [nan nan nan nan nan nan nan nan nan nan nan nan nan nan nan nan nan nan\n",
      " nan nan nan nan nan nan nan nan nan nan nan nan nan nan nan nan nan nan\n",
      " nan nan nan nan]\n",
      "  warnings.warn(\n"
     ]
    }
   ],
   "source": [
    "#performing hyperparameter tuning on the KNN model\n",
    "#Create a dictionary of hyperparameters to tune\n",
    "params = {'n_neighbors': [5, 10, 15, 20, 25],\n",
    "            'algorithm': ['auto', 'brute'],\n",
    "            'metric': ['euclidean', 'manhattan', 'minkowski', 'cosine']}\n",
    "# Create a grid search object\n",
    "knn_grid = GridSearchCV(knn, params, cv=5, scoring='neg_mean_squared_error', verbose=1, n_jobs=-1)\n",
    "\n",
    "# Fit the grid search\n",
    "knn_grid.fit(train_sparse_matrix) # Fit the grid search to fitted dataset\n",
    "\n",
    "# Print the best parameters and score\n",
    "print(\"Best parameters:\", knn_grid.best_params_)\n",
    "print(\"Best estimator:\", knn_grid.best_estimator_)"
   ]
  },
  {
   "attachments": {},
   "cell_type": "markdown",
   "metadata": {},
   "source": [
    "***Based on the Gridsearch above we will use the following parameters for the model.</br>\n",
    "Best parameters: {'algorithm': 'auto', 'metric': 'euclidean', 'n_neighbors': 5}\n",
    "Best estimator: NearestNeighbors(metric='euclidean')***"
   ]
  },
  {
   "attachments": {},
   "cell_type": "markdown",
   "metadata": {},
   "source": [
    "***<span style='color:#F76241'>|</span>Testing KNN Model***"
   ]
  },
  {
   "attachments": {},
   "cell_type": "markdown",
   "metadata": {},
   "source": [
    "<b>STEPS FOR TESTING KNN MODEL</b></br>\n",
    "1. Fit the best model on the fitted data </br>\n",
    "4. Use the fitted model to make predictions on the test data </br>\n",
    "5. Find the similarity between the users in the test data </br>\n",
    "5. Calculate the RMSE on the test data </br>\n"
   ]
  },
  {
   "cell_type": "code",
   "execution_count": 56,
   "metadata": {},
   "outputs": [
    {
     "name": "stderr",
     "output_type": "stream",
     "text": [
      "c:\\Users\\User\\AppData\\Local\\Programs\\Python\\Python310\\lib\\site-packages\\sklearn\\neighbors\\_base.py:557: UserWarning: cannot use tree with sparse input: using brute force\n",
      "  warnings.warn(\"cannot use tree with sparse input: using brute force\")\n"
     ]
    }
   ],
   "source": [
    "#fitting the adjusted model on the validated data based on the best parameters\n",
    "# Create a NearestNeighbors object\n",
    "knn_best = NearestNeighbors(n_neighbors=5, algorithm='auto', metric='euclidean')\n",
    "\n",
    "#fitting the model on the fitted dataset\n",
    "knn_fit_model = knn_best.fit(fit_sparse_matrix)"
   ]
  },
  {
   "attachments": {},
   "cell_type": "markdown",
   "metadata": {},
   "source": [
    "***<span style='color:#F76241'>|</span>Model Validation***"
   ]
  },
  {
   "cell_type": "code",
   "execution_count": 59,
   "metadata": {},
   "outputs": [
    {
     "name": "stdout",
     "output_type": "stream",
     "text": [
      "The RMSE of the model is: 1.0541693177069205\n"
     ]
    }
   ],
   "source": [
    "# Find the nearest neighbors of a given user based on their ratings\n",
    "user_id = 2300\n",
    "distances, indices = knn_best.kneighbors(val_sparse_matrix[user_id], n_neighbors=10) # type: ignore\n",
    "\n",
    "# Select a random movie from the recommended users for RMSE calculation\n",
    "recommended_movie = np.random.choice(validation_df[validation_df[\"userID\"].isin(indices.flatten())][\"MovieID\"].unique())\n",
    "\n",
    "# Compute the RMSE of the model\n",
    "actual_rating = validation_df[validation_df['MovieID'] == recommended_movie]['rating']\n",
    "predicted_rating = validation_df[validation_df['MovieID'] == recommended_movie].groupby('MovieID')['rating'].transform('mean')\n",
    "rmse = np.sqrt(mean_squared_error(actual_rating, predicted_rating))\n",
    "print(\"The RMSE of the model is:\", rmse)"
   ]
  },
  {
   "cell_type": "code",
   "execution_count": 60,
   "metadata": {},
   "outputs": [],
   "source": [
    "#recalling the test dataset\n",
    "test_df = pd.read_csv('test.csv')"
   ]
  },
  {
   "cell_type": "code",
   "execution_count": 61,
   "metadata": {},
   "outputs": [
    {
     "name": "stdout",
     "output_type": "stream",
     "text": [
      "Test dataset range: [0, 74033]\n"
     ]
    }
   ],
   "source": [
    "#checking the range of the test matrix\n",
    "test_users_range = range(test_sparse_matrix.shape[0])\n",
    "print(\"Test dataset range: [{}, {}]\".format(test_users_range.start, test_users_range.stop-1))"
   ]
  },
  {
   "attachments": {},
   "cell_type": "markdown",
   "metadata": {},
   "source": [
    "**SUB-QUESTION: How Similar are the users in terms of their feeling towards a particular movie</br>**"
   ]
  },
  {
   "cell_type": "code",
   "execution_count": null,
   "metadata": {},
   "outputs": [
    {
     "name": "stdout",
     "output_type": "stream",
     "text": [
      "Recommended users for user 1200: [  1200   6965 176715  37591  98490  98307  58395  75671 143987 118803]\n",
      "Distances to recommended users: [0.         4.12310563 4.58257569 5.         5.         5.\n",
      " 5.         5.         5.         5.        ]\n"
     ]
    }
   ],
   "source": [
    "# Find the nearest neighbors of a given user based on their ratings\n",
    "user_id = 1200\n",
    "distances, indices = knn_fit_model.kneighbors(test_sparse_matrix[user_id], n_neighbors=10) # type: ignore\n",
    "\n",
    "# Print the recommended users\n",
    "similar_users = indices.flatten()\n",
    "print(f\"Recommended users for user {user_id}: {similar_users}\")\n",
    "print(f\"Distances to recommended users: {distances.flatten()}\")\n"
   ]
  },
  {
   "attachments": {},
   "cell_type": "markdown",
   "metadata": {},
   "source": [
    "***Based on the fitted model, we find the similar users to User 1200 which returns a list of recommended userIDs for the given userID.<br>Based on the output above, we can see that the function returns a list of 5 recommended userIDs for the given userID. The recommended userIDs are the IDs of the users that are most similar to User 1200 in terms of their ratings for movies.<br>The function first gets the index of the user in the test dataframe that matches the userID input. Then, it uses the K-nearest neighbors algorithm (knn_train.kneighbors()) to find the 5 nearest neighbors of the user in the test dataframe dataframe based on the pairwise distances. Finally, it returns the recommended userIDs by excluding the first row (which corresponds to the input userID) from the raw_recommends array, which contains the indices of the nearest neighbors.***"
   ]
  },
  {
   "cell_type": "code",
   "execution_count": null,
   "metadata": {},
   "outputs": [
    {
     "data": {
      "text/html": [
       "<div>\n",
       "<style scoped>\n",
       "    .dataframe tbody tr th:only-of-type {\n",
       "        vertical-align: middle;\n",
       "    }\n",
       "\n",
       "    .dataframe tbody tr th {\n",
       "        vertical-align: top;\n",
       "    }\n",
       "\n",
       "    .dataframe thead th {\n",
       "        text-align: right;\n",
       "    }\n",
       "</style>\n",
       "<table border=\"1\" class=\"dataframe\">\n",
       "  <thead>\n",
       "    <tr style=\"text-align: right;\">\n",
       "      <th></th>\n",
       "      <th>userID</th>\n",
       "      <th>MovieID</th>\n",
       "      <th>release_year</th>\n",
       "      <th>rating_date</th>\n",
       "      <th>rating</th>\n",
       "    </tr>\n",
       "  </thead>\n",
       "  <tbody>\n",
       "    <tr>\n",
       "      <th>144079</th>\n",
       "      <td>37591</td>\n",
       "      <td>457</td>\n",
       "      <td>2004.0</td>\n",
       "      <td>2004-08-09</td>\n",
       "      <td>4</td>\n",
       "    </tr>\n",
       "    <tr>\n",
       "      <th>146945</th>\n",
       "      <td>118803</td>\n",
       "      <td>457</td>\n",
       "      <td>2004.0</td>\n",
       "      <td>2005-06-10</td>\n",
       "      <td>4</td>\n",
       "    </tr>\n",
       "    <tr>\n",
       "      <th>267300</th>\n",
       "      <td>37591</td>\n",
       "      <td>468</td>\n",
       "      <td>2003.0</td>\n",
       "      <td>2004-05-26</td>\n",
       "      <td>3</td>\n",
       "    </tr>\n",
       "    <tr>\n",
       "      <th>428238</th>\n",
       "      <td>37591</td>\n",
       "      <td>483</td>\n",
       "      <td>2001.0</td>\n",
       "      <td>2004-02-18</td>\n",
       "      <td>1</td>\n",
       "    </tr>\n",
       "    <tr>\n",
       "      <th>516967</th>\n",
       "      <td>37591</td>\n",
       "      <td>489</td>\n",
       "      <td>1998.0</td>\n",
       "      <td>2004-08-02</td>\n",
       "      <td>3</td>\n",
       "    </tr>\n",
       "  </tbody>\n",
       "</table>\n",
       "</div>"
      ],
      "text/plain": [
       "        userID  MovieID  release_year rating_date  rating\n",
       "144079   37591      457        2004.0  2004-08-09       4\n",
       "146945  118803      457        2004.0  2005-06-10       4\n",
       "267300   37591      468        2003.0  2004-05-26       3\n",
       "428238   37591      483        2001.0  2004-02-18       1\n",
       "516967   37591      489        1998.0  2004-08-02       3"
      ]
     },
     "execution_count": 63,
     "metadata": {},
     "output_type": "execute_result"
    }
   ],
   "source": [
    "#checking the info of the recommended users\n",
    "similar_users_df = test_df[test_df[\"userID\"].isin(similar_users)]\n",
    "similar_users_df.head()"
   ]
  },
  {
   "cell_type": "code",
   "execution_count": null,
   "metadata": {},
   "outputs": [
    {
     "name": "stderr",
     "output_type": "stream",
     "text": [
      "C:\\Users\\User\\AppData\\Local\\Temp\\ipykernel_964\\2082412320.py:2: SettingWithCopyWarning: \n",
      "A value is trying to be set on a copy of a slice from a DataFrame.\n",
      "Try using .loc[row_indexer,col_indexer] = value instead\n",
      "\n",
      "See the caveats in the documentation: https://pandas.pydata.org/pandas-docs/stable/user_guide/indexing.html#returning-a-view-versus-a-copy\n",
      "  similar_users_df['avg_rating_by_similar_users'] = similar_users_df.groupby('MovieID')['rating'].transform('mean')\n"
     ]
    },
    {
     "data": {
      "text/html": [
       "<div>\n",
       "<style scoped>\n",
       "    .dataframe tbody tr th:only-of-type {\n",
       "        vertical-align: middle;\n",
       "    }\n",
       "\n",
       "    .dataframe tbody tr th {\n",
       "        vertical-align: top;\n",
       "    }\n",
       "\n",
       "    .dataframe thead th {\n",
       "        text-align: right;\n",
       "    }\n",
       "</style>\n",
       "<table border=\"1\" class=\"dataframe\">\n",
       "  <thead>\n",
       "    <tr style=\"text-align: right;\">\n",
       "      <th></th>\n",
       "      <th>userID</th>\n",
       "      <th>MovieID</th>\n",
       "      <th>release_year</th>\n",
       "      <th>rating_date</th>\n",
       "      <th>rating</th>\n",
       "      <th>avg_rating_by_similar_users</th>\n",
       "    </tr>\n",
       "  </thead>\n",
       "  <tbody>\n",
       "    <tr>\n",
       "      <th>144079</th>\n",
       "      <td>37591</td>\n",
       "      <td>457</td>\n",
       "      <td>2004.0</td>\n",
       "      <td>2004-08-09</td>\n",
       "      <td>4</td>\n",
       "      <td>4.0</td>\n",
       "    </tr>\n",
       "    <tr>\n",
       "      <th>146945</th>\n",
       "      <td>118803</td>\n",
       "      <td>457</td>\n",
       "      <td>2004.0</td>\n",
       "      <td>2005-06-10</td>\n",
       "      <td>4</td>\n",
       "      <td>4.0</td>\n",
       "    </tr>\n",
       "    <tr>\n",
       "      <th>267300</th>\n",
       "      <td>37591</td>\n",
       "      <td>468</td>\n",
       "      <td>2003.0</td>\n",
       "      <td>2004-05-26</td>\n",
       "      <td>3</td>\n",
       "      <td>3.0</td>\n",
       "    </tr>\n",
       "    <tr>\n",
       "      <th>428238</th>\n",
       "      <td>37591</td>\n",
       "      <td>483</td>\n",
       "      <td>2001.0</td>\n",
       "      <td>2004-02-18</td>\n",
       "      <td>1</td>\n",
       "      <td>1.0</td>\n",
       "    </tr>\n",
       "    <tr>\n",
       "      <th>516967</th>\n",
       "      <td>37591</td>\n",
       "      <td>489</td>\n",
       "      <td>1998.0</td>\n",
       "      <td>2004-08-02</td>\n",
       "      <td>3</td>\n",
       "      <td>3.0</td>\n",
       "    </tr>\n",
       "  </tbody>\n",
       "</table>\n",
       "</div>"
      ],
      "text/plain": [
       "        userID  MovieID  release_year rating_date  rating  \\\n",
       "144079   37591      457        2004.0  2004-08-09       4   \n",
       "146945  118803      457        2004.0  2005-06-10       4   \n",
       "267300   37591      468        2003.0  2004-05-26       3   \n",
       "428238   37591      483        2001.0  2004-02-18       1   \n",
       "516967   37591      489        1998.0  2004-08-02       3   \n",
       "\n",
       "        avg_rating_by_similar_users  \n",
       "144079                          4.0  \n",
       "146945                          4.0  \n",
       "267300                          3.0  \n",
       "428238                          1.0  \n",
       "516967                          3.0  "
      ]
     },
     "execution_count": 64,
     "metadata": {},
     "output_type": "execute_result"
    }
   ],
   "source": [
    "#calculating average rating of movies among similar users\n",
    "similar_users_df['avg_rating_by_similar_users'] = similar_users_df.groupby('MovieID')['rating'].transform('mean')\n",
    "similar_users_df.head()"
   ]
  },
  {
   "cell_type": "code",
   "execution_count": null,
   "metadata": {},
   "outputs": [
    {
     "data": {
      "text/plain": [
       "457"
      ]
     },
     "execution_count": 65,
     "metadata": {},
     "output_type": "execute_result"
    }
   ],
   "source": [
    "#selecting a random movie from the recommended users for RMSE calculation\n",
    "recommended_movie =np.random.choice(np.unique(similar_users_df['MovieID']))\n",
    "recommended_movie"
   ]
  },
  {
   "cell_type": "code",
   "execution_count": null,
   "metadata": {},
   "outputs": [
    {
     "data": {
      "text/html": [
       "<div>\n",
       "<style scoped>\n",
       "    .dataframe tbody tr th:only-of-type {\n",
       "        vertical-align: middle;\n",
       "    }\n",
       "\n",
       "    .dataframe tbody tr th {\n",
       "        vertical-align: top;\n",
       "    }\n",
       "\n",
       "    .dataframe thead th {\n",
       "        text-align: right;\n",
       "    }\n",
       "</style>\n",
       "<table border=\"1\" class=\"dataframe\">\n",
       "  <thead>\n",
       "    <tr style=\"text-align: right;\">\n",
       "      <th></th>\n",
       "      <th>userID</th>\n",
       "      <th>MovieID</th>\n",
       "      <th>release_year</th>\n",
       "      <th>rating_date</th>\n",
       "      <th>rating</th>\n",
       "      <th>avg_rating_by_similar_users</th>\n",
       "    </tr>\n",
       "  </thead>\n",
       "  <tbody>\n",
       "    <tr>\n",
       "      <th>144079</th>\n",
       "      <td>37591</td>\n",
       "      <td>457</td>\n",
       "      <td>2004.0</td>\n",
       "      <td>2004-08-09</td>\n",
       "      <td>4</td>\n",
       "      <td>4.0</td>\n",
       "    </tr>\n",
       "    <tr>\n",
       "      <th>146945</th>\n",
       "      <td>118803</td>\n",
       "      <td>457</td>\n",
       "      <td>2004.0</td>\n",
       "      <td>2005-06-10</td>\n",
       "      <td>4</td>\n",
       "      <td>4.0</td>\n",
       "    </tr>\n",
       "  </tbody>\n",
       "</table>\n",
       "</div>"
      ],
      "text/plain": [
       "        userID  MovieID  release_year rating_date  rating  \\\n",
       "144079   37591      457        2004.0  2004-08-09       4   \n",
       "146945  118803      457        2004.0  2005-06-10       4   \n",
       "\n",
       "        avg_rating_by_similar_users  \n",
       "144079                          4.0  \n",
       "146945                          4.0  "
      ]
     },
     "execution_count": 66,
     "metadata": {},
     "output_type": "execute_result"
    }
   ],
   "source": [
    "#checking the rating of the recommended movie by the similar users\n",
    "similar_users_df[similar_users_df['MovieID']==recommended_movie]"
   ]
  },
  {
   "cell_type": "code",
   "execution_count": null,
   "metadata": {},
   "outputs": [
    {
     "data": {
      "text/html": [
       "<div>\n",
       "<style scoped>\n",
       "    .dataframe tbody tr th:only-of-type {\n",
       "        vertical-align: middle;\n",
       "    }\n",
       "\n",
       "    .dataframe tbody tr th {\n",
       "        vertical-align: top;\n",
       "    }\n",
       "\n",
       "    .dataframe thead th {\n",
       "        text-align: right;\n",
       "    }\n",
       "</style>\n",
       "<table border=\"1\" class=\"dataframe\">\n",
       "  <thead>\n",
       "    <tr style=\"text-align: right;\">\n",
       "      <th></th>\n",
       "      <th>MovieID</th>\n",
       "      <th>avg_rating_by_similar_users</th>\n",
       "    </tr>\n",
       "  </thead>\n",
       "  <tbody>\n",
       "    <tr>\n",
       "      <th>144079</th>\n",
       "      <td>457</td>\n",
       "      <td>4.0</td>\n",
       "    </tr>\n",
       "    <tr>\n",
       "      <th>146945</th>\n",
       "      <td>457</td>\n",
       "      <td>4.0</td>\n",
       "    </tr>\n",
       "  </tbody>\n",
       "</table>\n",
       "</div>"
      ],
      "text/plain": [
       "        MovieID  avg_rating_by_similar_users\n",
       "144079      457                          4.0\n",
       "146945      457                          4.0"
      ]
     },
     "execution_count": 67,
     "metadata": {},
     "output_type": "execute_result"
    }
   ],
   "source": [
    "#create a dataframe with the average rating of the recommended movie by the similar users\n",
    "avg_rating = similar_users_df[similar_users_df['MovieID']==recommended_movie][['MovieID','avg_rating_by_similar_users']]\n",
    "avg_rating"
   ]
  },
  {
   "cell_type": "code",
   "execution_count": null,
   "metadata": {},
   "outputs": [
    {
     "data": {
      "text/plain": [
       "0    3.554956\n",
       "1    3.554956\n",
       "2    3.554956\n",
       "3    3.554956\n",
       "4    3.554956\n",
       "Name: rating, dtype: float64"
      ]
     },
     "execution_count": 68,
     "metadata": {},
     "output_type": "execute_result"
    }
   ],
   "source": [
    "#Computing the Average Rating of Movies among the similar users in the test dataset\n",
    "predicted_rating = test_df['avg_rating_by_similar_users'] = test_df.groupby('MovieID')['rating'].transform('mean')\n",
    "predicted_rating.head()"
   ]
  },
  {
   "cell_type": "code",
   "execution_count": null,
   "metadata": {},
   "outputs": [
    {
     "data": {
      "text/html": [
       "<div>\n",
       "<style scoped>\n",
       "    .dataframe tbody tr th:only-of-type {\n",
       "        vertical-align: middle;\n",
       "    }\n",
       "\n",
       "    .dataframe tbody tr th {\n",
       "        vertical-align: top;\n",
       "    }\n",
       "\n",
       "    .dataframe thead th {\n",
       "        text-align: right;\n",
       "    }\n",
       "</style>\n",
       "<table border=\"1\" class=\"dataframe\">\n",
       "  <thead>\n",
       "    <tr style=\"text-align: right;\">\n",
       "      <th></th>\n",
       "      <th>MovieID</th>\n",
       "      <th>rating</th>\n",
       "      <th>avg_rating_by_similar_users</th>\n",
       "    </tr>\n",
       "  </thead>\n",
       "  <tbody>\n",
       "    <tr>\n",
       "      <th>129940</th>\n",
       "      <td>457</td>\n",
       "      <td>3</td>\n",
       "      <td>3.874386</td>\n",
       "    </tr>\n",
       "    <tr>\n",
       "      <th>129941</th>\n",
       "      <td>457</td>\n",
       "      <td>5</td>\n",
       "      <td>3.874386</td>\n",
       "    </tr>\n",
       "    <tr>\n",
       "      <th>129942</th>\n",
       "      <td>457</td>\n",
       "      <td>5</td>\n",
       "      <td>3.874386</td>\n",
       "    </tr>\n",
       "    <tr>\n",
       "      <th>129943</th>\n",
       "      <td>457</td>\n",
       "      <td>5</td>\n",
       "      <td>3.874386</td>\n",
       "    </tr>\n",
       "    <tr>\n",
       "      <th>129944</th>\n",
       "      <td>457</td>\n",
       "      <td>3</td>\n",
       "      <td>3.874386</td>\n",
       "    </tr>\n",
       "    <tr>\n",
       "      <th>...</th>\n",
       "      <td>...</td>\n",
       "      <td>...</td>\n",
       "      <td>...</td>\n",
       "    </tr>\n",
       "    <tr>\n",
       "      <th>246697</th>\n",
       "      <td>457</td>\n",
       "      <td>4</td>\n",
       "      <td>3.874386</td>\n",
       "    </tr>\n",
       "    <tr>\n",
       "      <th>246698</th>\n",
       "      <td>457</td>\n",
       "      <td>4</td>\n",
       "      <td>3.874386</td>\n",
       "    </tr>\n",
       "    <tr>\n",
       "      <th>246699</th>\n",
       "      <td>457</td>\n",
       "      <td>4</td>\n",
       "      <td>3.874386</td>\n",
       "    </tr>\n",
       "    <tr>\n",
       "      <th>246700</th>\n",
       "      <td>457</td>\n",
       "      <td>4</td>\n",
       "      <td>3.874386</td>\n",
       "    </tr>\n",
       "    <tr>\n",
       "      <th>246701</th>\n",
       "      <td>457</td>\n",
       "      <td>3</td>\n",
       "      <td>3.874386</td>\n",
       "    </tr>\n",
       "  </tbody>\n",
       "</table>\n",
       "<p>116762 rows × 3 columns</p>\n",
       "</div>"
      ],
      "text/plain": [
       "        MovieID  rating  avg_rating_by_similar_users\n",
       "129940      457       3                     3.874386\n",
       "129941      457       5                     3.874386\n",
       "129942      457       5                     3.874386\n",
       "129943      457       5                     3.874386\n",
       "129944      457       3                     3.874386\n",
       "...         ...     ...                          ...\n",
       "246697      457       4                     3.874386\n",
       "246698      457       4                     3.874386\n",
       "246699      457       4                     3.874386\n",
       "246700      457       4                     3.874386\n",
       "246701      457       3                     3.874386\n",
       "\n",
       "[116762 rows x 3 columns]"
      ]
     },
     "execution_count": 69,
     "metadata": {},
     "output_type": "execute_result"
    }
   ],
   "source": [
    "#create a dataframe with the rating and average ratings of the recommended movies by the all the users in the test dataset\n",
    "avg_rating_df= test_df[test_df['MovieID']==recommended_movie][['MovieID','rating','avg_rating_by_similar_users']]\n",
    "avg_rating_df\n"
   ]
  },
  {
   "attachments": {},
   "cell_type": "markdown",
   "metadata": {},
   "source": [
    "**SUB_QUESTION: How can we evaluate the accuracy and effectiveness of different recommender system algorithms using the Jester dataset? </br>**"
   ]
  },
  {
   "cell_type": "code",
   "execution_count": null,
   "metadata": {},
   "outputs": [
    {
     "name": "stdout",
     "output_type": "stream",
     "text": [
      "The MSE of the model is:  1.1758501238397596\n",
      "The RMSE of the model is:  1.0843662314180387\n"
     ]
    }
   ],
   "source": [
    "#calculating the RMSE of the model\n",
    "actual_rating = avg_rating_df['rating']\n",
    "predicted_rating = avg_rating_df['avg_rating_by_similar_users']\n",
    "\n",
    "#calculating the mse\n",
    "mse = mean_squared_error(actual_rating, predicted_rating)\n",
    "print(\"The MSE of the model is: \", mse)\n",
    "\n",
    "#calculating the rmse\n",
    "rmse = np.sqrt(mse)\n",
    "print(\"The RMSE of the model is: \", rmse)"
   ]
  },
  {
   "attachments": {},
   "cell_type": "markdown",
   "metadata": {},
   "source": [
    "A low RMSE indicates that the system is accurately predicting the user ratings and providing recommendations that are similar to the user's actual preferences. This is a desirable outcome as it increases the likelihood that the user will be satisfied with the recommendations and continue to use the system."
   ]
  },
  {
   "attachments": {},
   "cell_type": "markdown",
   "metadata": {},
   "source": [
    "### **4.2<span style='color:#F76241'>|</span>Recommeder Using Single Value Decomposition (SVD) on the Surprise Package**"
   ]
  },
  {
   "attachments": {},
   "cell_type": "markdown",
   "metadata": {},
   "source": [
    "Surprise's SVD algorithm utilizes matrix factorization-based collaborative filtering, which divides the user-item interaction matrix into two smaller matrices: a user matrix and an item matrix. These matrices are commonly referred to as \"latent factor\" matrices, with their dimensions chosen so they approximate the original interaction matrix.\n",
    "\n",
    "Here's a detailed look at how the SVM algorithm is implemented in Surprise:\n",
    "\n",
    "- Initialize the SVD algorithm with hyperparameters (e.g., number of latent factors, learning rate, regularization terms) according to your desired conditions.\n",
    "- Divide the data into training and testing sets.\n",
    "- Create a user-item matrix, where each row represents a user and each column an item; entries represent what rating each user gave the item (or whether they have interacted with it).\n",
    "- Factorize the user-item matrix into two latent factor matrices, one for users and another for items.\n",
    "- To estimate all unknowns, we minimize the following regularized squared error using stochastic gradient descent (SGD) optimization: the difference between predicted ratings and actual ratings in    the training set.\n",
    "- Use the latent factor matrices generated to predict ratings for items in a test set.\n",
    "- Evaluate the accuracy of these predictions using various metrics such as RMSE, MAE, precision, recall and F1-score to assess its applicability.\n",
    "- Repeat steps 4-6 with different hyperparameter values to find the optimal hyperparameters that minimize prediction error in your test set (hyperparameter tuning).\n",
    "- Once the optimal hyperparameters have been identified, train an SVD algorithm on all data and use it to generate recommendations for new users and items.\n",
    "Note that Surprise uses several extensions of the basic SVD algorithm, such as NMF and Co-Clustering, which add additional features or modify the optimization objective to enhance recommendation quality.\n",
    "\n",
    "source: https://surprise.readthedocs.io/en/stable/matrix_factorization.html#surprise.prediction_algorithms.matrix_factorization.SVD"
   ]
  },
  {
   "cell_type": "code",
   "execution_count": null,
   "metadata": {},
   "outputs": [],
   "source": [
    "#SURPRISE LIBRARY\n",
    "import surprise\n",
    "from surprise import Reader\n",
    "from surprise import Dataset\n",
    "from surprise.model_selection import cross_validate\n",
    "from surprise.model_selection import train_test_split as split_sur\n",
    "from surprise import accuracy, Dataset, SVD\n",
    "from surprise.model_selection import GridSearchCV"
   ]
  },
  {
   "cell_type": "code",
   "execution_count": null,
   "metadata": {},
   "outputs": [],
   "source": [
    "#Calling the SVD Reader\n",
    "reader = Reader(line_format='user item rating', sep=',', skip_lines=1)\n",
    "\n",
    "#Loading the dataset to the Surprise library\n",
    "netflix_svd = surprise.Dataset.load_from_df(df_sample[[\"userID\", \"MovieID\", \"rating\"]], reader)"
   ]
  },
  {
   "cell_type": "code",
   "execution_count": null,
   "metadata": {},
   "outputs": [
    {
     "name": "stdout",
     "output_type": "stream",
     "text": [
      "Evaluating RMSE, MAE of algorithm SVD on 5 split(s).\n",
      "\n",
      "                  Fold 1  Fold 2  Fold 3  Fold 4  Fold 5  Mean    Std     \n",
      "RMSE (testset)    0.9892  0.9894  0.9894  0.9886  0.9885  0.9890  0.0004  \n",
      "MAE (testset)     0.7783  0.7782  0.7801  0.7777  0.7781  0.7785  0.0008  \n",
      "Fit time          31.46   34.05   34.11   33.78   34.37   33.55   1.06    \n",
      "Test time         11.49   6.70    3.23    3.38    3.33    5.62    3.21    \n"
     ]
    },
    {
     "data": {
      "text/plain": [
       "{'test_rmse': array([0.98918747, 0.98944764, 0.9894435 , 0.98861451, 0.98850793]),\n",
       " 'test_mae': array([0.77829289, 0.77817908, 0.78012177, 0.7776584 , 0.77814545]),\n",
       " 'fit_time': (31.460800409317017,\n",
       "  34.045592308044434,\n",
       "  34.11017370223999,\n",
       "  33.77551341056824,\n",
       "  34.37347912788391),\n",
       " 'test_time': (11.487844228744507,\n",
       "  6.695178270339966,\n",
       "  3.232844591140747,\n",
       "  3.3827364444732666,\n",
       "  3.3257529735565186)}"
      ]
     },
     "execution_count": 91,
     "metadata": {},
     "output_type": "execute_result"
    }
   ],
   "source": [
    "# defining the SVD algorithm\n",
    "svd_algo = SVD()\n",
    "\n",
    "#Perform a 5-fold cross-validation on the dataset using the SVD algorithm and evaluate using RMSE and MAE\n",
    "cross_validate(svd_algo, netflix_svd, measures=[\"RMSE\", \"MAE\"], cv=5, verbose=True)"
   ]
  },
  {
   "attachments": {},
   "cell_type": "markdown",
   "metadata": {},
   "source": [
    "***<span style='color:#F76241'>|</span>Training, Test and Accuracy SVD Model***"
   ]
  },
  {
   "cell_type": "code",
   "execution_count": null,
   "metadata": {},
   "outputs": [
    {
     "name": "stdout",
     "output_type": "stream",
     "text": [
      "RMSE: 0.9919\n"
     ]
    },
    {
     "data": {
      "text/plain": [
       "0.9919126268452207"
      ]
     },
     "execution_count": 92,
     "metadata": {},
     "output_type": "execute_result"
    }
   ],
   "source": [
    "# test set is made of 25% of the ratings.\n",
    "svd_train, svd_test = split_sur(netflix_svd, test_size=0.25) # Split the dataset into 75% trainset and 25% testset\n",
    "\n",
    "# create SVD algorithm with default parameters\n",
    "svd_algo = SVD()\n",
    "\n",
    "# Train the algorithm on the trainset, and predict ratings for the testset\n",
    "svd_algo.fit(svd_train) # Train the algorithm on the trainset\n",
    "predictions = svd_algo.test(svd_test) # Predict ratings for the testset\n",
    "\n",
    "# Then compute RMSE\n",
    "accuracy.rmse(predictions) # Compute and print Root Mean Squared Error"
   ]
  },
  {
   "attachments": {},
   "cell_type": "markdown",
   "metadata": {},
   "source": [
    "***<span style='color:#F76241'>|</span>SVD Recommendation***"
   ]
  },
  {
   "cell_type": "code",
   "execution_count": null,
   "metadata": {},
   "outputs": [
    {
     "name": "stdout",
     "output_type": "stream",
     "text": [
      "[(30, 3.5628423014696464), (457, 3.2804050067145103)]\n"
     ]
    }
   ],
   "source": [
    "# sort the predictions by estimated rating in descending order\n",
    "top_n = {} # dictionary to store the top n predictions for each user\n",
    "for uid, iid, true_r, est, _ in predictions: # for each user, item, true rating, estimated rating, and additional info\n",
    "    if uid not in top_n:\n",
    "        top_n[uid] = [(iid, est)] # if the user is not in the dictionary, add the user and the item and its estimated rating\n",
    "    else:\n",
    "        top_n[uid].append((iid, est)) # if the user is in the dictionary, append the item and its estimated rating\n",
    "\n",
    "# Print the top 10 predictions for each user\n",
    "for uid, user_ratings in top_n.items():\n",
    "    user_ratings.sort(key=lambda x: x[1], reverse=True) # sort the list of tuples by the estimated rating in descending order\n",
    "    top_n[uid] = user_ratings[:10] # select the top 10 predictions\n",
    "\n",
    "print(top_n[188]) # print the top 10 predictions for user 387418"
   ]
  },
  {
   "attachments": {},
   "cell_type": "markdown",
   "metadata": {},
   "source": [
    "## <b>5<span style='color:#F76241'>|</span>Conclusion, Recommendation and Limitations"
   ]
  },
  {
   "attachments": {},
   "cell_type": "markdown",
   "metadata": {},
   "source": [
    "The results revealed that the KNN algorithm had an RMSE  value of 1.01, while the SVD had  0.9.  This suggests that SVD performed better in terms of accuracy than KNN. The SVD Similarly performed better on the Jester Set..\n",
    "KNN is slower than SVD due to its pairwise distance calculation, making it computationally expensive for large datasets. On the other hand, SVD factorizes user-item matrices and computes latent factors more efficiently, making it faster for large and sparse datasets like the Netflix Dataset<br>\n",
    "SVD  showed to be more precise in terms of accuracy and may be a preferable option when efficiency is important. Finally, the algorithm you use is determined either by precise requirements of your project.<br>\n",
    "Based on the scope of this report, SVD can help better improve the customer experience of Netflix users using SVD and we recommend using this algorithm. This is also evident as Simon Funk help popularize this method in the Netflix prize (see https://surprise.readthedocs.io/en/stable/matrix_factorization.html#surprise.prediction_algorithms.matrix_factorization.SVD)<br>\n",
    "\n",
    "Some of the limitations of this project include the following:\n",
    "- Netflix dataset was too large and computationally demanding.\n",
    "- Longer loading and wait time for code execution thus was unable to use population sample of Netflix dataset.\n",
    "- Sparse matrix had many index errors\n",
    "- SVD is more difficult to interpret than KNN\n"
   ]
  }
 ],
 "metadata": {
  "kernelspec": {
   "display_name": "base",
   "language": "python",
   "name": "python3"
  },
  "language_info": {
   "codemirror_mode": {
    "name": "ipython",
    "version": 3
   },
   "file_extension": ".py",
   "mimetype": "text/x-python",
   "name": "python",
   "nbconvert_exporter": "python",
   "pygments_lexer": "ipython3",
   "version": "3.10.6"
  },
  "orig_nbformat": 4
 },
 "nbformat": 4,
 "nbformat_minor": 2
}
